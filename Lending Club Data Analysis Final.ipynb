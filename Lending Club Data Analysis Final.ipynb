{
 "cells": [
  {
   "cell_type": "markdown",
   "metadata": {},
   "source": [
    "### Loan Default Prediction \n",
    "The Purpose of this project is to use machine learning algorithm to predict loan default.  The data comes from Lending Club, a peer-to-peer lending institution.  The applicant's information at the time the loan is issued from such as FICO score and applicant's housing status is used to predict default.\n",
    "Please visit https://loandefaultprediction.herokuapp.com/ for summary of results"
   ]
  },
  {
   "cell_type": "code",
   "execution_count": 22,
   "metadata": {
    "collapsed": false
   },
   "outputs": [],
   "source": [
    "import pandas as pd\n",
    "import numpy as np\n",
    "from matplotlib import pyplot as plt\n",
    "import matplotlib.pyplot as plt\n",
    "import statsmodels.formula.api as smf   # for \"formula notation\"\n",
    "from collections import Counter\n",
    "import seaborn as sns\n",
    "from sklearn import datasets, linear_model, utils, preprocessing, decomposition\n",
    "from sklearn.naive_bayes import GaussianNB\n",
    "from sklearn.pipeline import make_pipeline\n",
    "from sklearn.grid_search import GridSearchCV\n",
    "from sklearn.ensemble import RandomForestClassifier\n",
    "from sklearn.ensemble import ExtraTreesClassifier\n",
    "from sklearn.preprocessing import StandardScaler\n",
    "from sklearn.decomposition import PCA\n",
    "from sklearn.cross_validation import StratifiedKFold\n",
    "from sklearn.linear_model.stochastic_gradient import SGDClassifier\n",
    "from sklearn.svm import SVC\n",
    "from sklearn.pipeline import Pipeline\n",
    "from sklearn.metrics import confusion_matrix\n",
    "from sklearn.cross_validation import train_test_split\n",
    "from sklearn import svm\n",
    "%matplotlib inline\n",
    "\n",
    "from bokeh.plotting import figure, show, output_file, vplot\n",
    "\n",
    "from bokeh.io import output_notebook"
   ]
  },
  {
   "cell_type": "code",
   "execution_count": 26,
   "metadata": {
    "collapsed": false
   },
   "outputs": [],
   "source": [
    "%matplotlib inline\n",
    "import matplotlib\n",
    "import seaborn as sns\n",
    "matplotlib.rcParams['savefig.dpi'] = 2 * matplotlib.rcParams['savefig.dpi']\n",
    "import matplotlib.pyplot as plt\n",
    "import pandas as pd\n",
    "import numpy as np"
   ]
  },
  {
   "cell_type": "code",
   "execution_count": 23,
   "metadata": {
    "collapsed": false
   },
   "outputs": [],
   "source": [
    "loandata07to11=pd.read_csv(\"LoanStats3a_securev1.csv\")\n",
    "loandata12to13=pd.read_csv(\"LoanStats3b_securev1.csv\")\n",
    "loandata13to14=pd.read_csv(\"LoanStats3c_securev1.csv\")\n",
    "loandata15=pd.read_csv(\"LoanStats3d_securev1.csv\")"
   ]
  },
  {
   "cell_type": "markdown",
   "metadata": {},
   "source": [
    "Explore the information available in the different data sets for different years"
   ]
  },
  {
   "cell_type": "code",
   "execution_count": 24,
   "metadata": {
    "collapsed": false
   },
   "outputs": [
    {
     "data": {
      "text/plain": [
       "array(['id', 'member_id', 'loan_amnt', 'funded_amnt', 'funded_amnt_inv',\n",
       "       'term', 'int_rate', 'installment', 'grade', 'sub_grade',\n",
       "       'emp_title', 'emp_length', 'home_ownership', 'annual_inc',\n",
       "       'verification_status', 'issue_d', 'loan_status', 'pymnt_plan',\n",
       "       'url', 'desc', 'purpose', 'title', 'zip_code', 'addr_state', 'dti',\n",
       "       'delinq_2yrs', 'earliest_cr_line', 'fico_range_low',\n",
       "       'fico_range_high', 'inq_last_6mths', 'mths_since_last_delinq',\n",
       "       'mths_since_last_record', 'open_acc', 'pub_rec', 'revol_bal',\n",
       "       'revol_util', 'total_acc', 'initial_list_status', 'out_prncp',\n",
       "       'out_prncp_inv', 'total_pymnt', 'total_pymnt_inv',\n",
       "       'total_rec_prncp', 'total_rec_int', 'total_rec_late_fee',\n",
       "       'recoveries', 'collection_recovery_fee', 'last_pymnt_d',\n",
       "       'last_pymnt_amnt', 'next_pymnt_d', 'last_credit_pull_d',\n",
       "       'last_fico_range_high', 'last_fico_range_low',\n",
       "       'collections_12_mths_ex_med', 'mths_since_last_major_derog',\n",
       "       'policy_code', 'application_type', 'annual_inc_joint', 'dti_joint',\n",
       "       'verification_status_joint', 'acc_now_delinq', 'tot_coll_amt',\n",
       "       'tot_cur_bal', 'open_acc_6m', 'open_il_6m', 'open_il_12m',\n",
       "       'open_il_24m', 'mths_since_rcnt_il', 'total_bal_il', 'il_util',\n",
       "       'open_rv_12m', 'open_rv_24m', 'max_bal_bc', 'all_util',\n",
       "       'total_credit_rv', 'inq_fi', 'total_fi_tl', 'inq_last_12m'], dtype=object)"
      ]
     },
     "execution_count": 24,
     "metadata": {},
     "output_type": "execute_result"
    }
   ],
   "source": [
    "loandata07to11.columns[:].ravel()"
   ]
  },
  {
   "cell_type": "code",
   "execution_count": 25,
   "metadata": {
    "collapsed": true
   },
   "outputs": [],
   "source": [
    "testdata=loandata07to11[loandata07to11['loan_status']=='Current']"
   ]
  },
  {
   "cell_type": "code",
   "execution_count": 27,
   "metadata": {
    "collapsed": false
   },
   "outputs": [
    {
     "data": {
      "text/plain": [
       "Index([u'id', u'member_id', u'loan_amnt', u'funded_amnt', u'funded_amnt_inv',\n",
       "       u'term', u'int_rate', u'installment', u'grade', u'sub_grade',\n",
       "       u'emp_title', u'emp_length', u'home_ownership', u'annual_inc',\n",
       "       u'verification_status', u'issue_d', u'loan_status', u'pymnt_plan',\n",
       "       u'url', u'desc', u'purpose', u'title', u'zip_code', u'addr_state',\n",
       "       u'dti', u'delinq_2yrs', u'earliest_cr_line', u'fico_range_low',\n",
       "       u'fico_range_high', u'inq_last_6mths', u'mths_since_last_delinq',\n",
       "       u'mths_since_last_record', u'open_acc', u'pub_rec', u'revol_bal',\n",
       "       u'revol_util', u'total_acc', u'initial_list_status', u'out_prncp',\n",
       "       u'out_prncp_inv', u'total_pymnt', u'total_pymnt_inv',\n",
       "       u'total_rec_prncp', u'total_rec_int', u'total_rec_late_fee',\n",
       "       u'recoveries', u'collection_recovery_fee', u'last_pymnt_d',\n",
       "       u'last_pymnt_amnt', u'next_pymnt_d', u'last_credit_pull_d',\n",
       "       u'last_fico_range_high', u'last_fico_range_low',\n",
       "       u'collections_12_mths_ex_med', u'mths_since_last_major_derog',\n",
       "       u'policy_code', u'application_type', u'annual_inc_joint', u'dti_joint',\n",
       "       u'verification_status_joint', u'acc_now_delinq', u'tot_coll_amt',\n",
       "       u'tot_cur_bal', u'open_acc_6m', u'open_il_6m', u'open_il_12m',\n",
       "       u'open_il_24m', u'mths_since_rcnt_il', u'total_bal_il', u'il_util',\n",
       "       u'open_rv_12m', u'open_rv_24m', u'max_bal_bc', u'all_util',\n",
       "       u'total_credit_rv', u'inq_fi', u'total_fi_tl', u'inq_last_12m'],\n",
       "      dtype='object')"
      ]
     },
     "execution_count": 27,
     "metadata": {},
     "output_type": "execute_result"
    }
   ],
   "source": [
    "loandata12to13.columns[:]"
   ]
  },
  {
   "cell_type": "markdown",
   "metadata": {
    "collapsed": true
   },
   "source": [
    "### Reclassify loan status  to 1 or 0:  Loans that are charged off are considered as in \"bad standing\" or 0.  The rest are in \"good standing\" or 1"
   ]
  },
  {
   "cell_type": "code",
   "execution_count": 28,
   "metadata": {
    "collapsed": true
   },
   "outputs": [],
   "source": [
    "def loan_status_apply(x):\n",
    "    if x=='Charged Off':\n",
    "        status=0\n",
    "        return status\n",
    "    elif x=='Current':\n",
    "        status=1\n",
    "        return status\n",
    "    elif x=='Does not meet the credit policy. Status:Charged Off':\n",
    "        status=0\n",
    "        return status\n",
    "    elif x=='Does not meet the credit policy. Status:Current':\n",
    "        status=1\n",
    "        return status\n",
    "    elif x=='Does not meet the credit policy. Status:Fully Paid':\n",
    "        status=1\n",
    "        return status\n",
    "    elif x=='Fully Paid' or 'Fully Paid ':\n",
    "        status=1\n",
    "        return status\n",
    "\n",
    "loandata07to11['loan_status_code'] = loandata07to11['loan_status'].apply(lambda x: loan_status_apply(x))\n",
    "loandata12to13['loan_status_code'] = loandata12to13['loan_status'].apply(lambda x: loan_status_apply(x))\n",
    "loandata13to14['loan_status_code'] = loandata13to14['loan_status'].apply(lambda x: loan_status_apply(x))"
   ]
  },
  {
   "cell_type": "code",
   "execution_count": 29,
   "metadata": {
    "collapsed": false
   },
   "outputs": [
    {
     "data": {
      "text/plain": [
       "Counter({nan: 3,\n",
       "         'Charged Off': 5565,\n",
       "         'Current': 2080,\n",
       "         'Default': 1,\n",
       "         'Does not meet the credit policy. Status:Charged Off': 761,\n",
       "         'Does not meet the credit policy. Status:Current': 4,\n",
       "         'Does not meet the credit policy. Status:Fully Paid': 1984,\n",
       "         'Fully Paid': 32036,\n",
       "         'In Grace Period': 31,\n",
       "         'Late (16-30 days)': 7,\n",
       "         'Late (31-120 days)': 66})"
      ]
     },
     "execution_count": 29,
     "metadata": {},
     "output_type": "execute_result"
    }
   ],
   "source": [
    "Counter(loandata07to11['loan_status'])"
   ]
  },
  {
   "cell_type": "code",
   "execution_count": 30,
   "metadata": {
    "collapsed": false
   },
   "outputs": [
    {
     "data": {
      "text/plain": [
       "Counter({0: 22636, 1: 165489})"
      ]
     },
     "execution_count": 30,
     "metadata": {},
     "output_type": "execute_result"
    }
   ],
   "source": [
    "Counter(loandata12to13['loan_status_code'])"
   ]
  },
  {
   "cell_type": "code",
   "execution_count": 31,
   "metadata": {
    "collapsed": false
   },
   "outputs": [
    {
     "data": {
      "text/plain": [
       "Counter({nan: 2,\n",
       "         'Charged Off': 22636,\n",
       "         'Current': 66989,\n",
       "         'Default': 96,\n",
       "         'Fully Paid': 95007,\n",
       "         'In Grace Period': 982,\n",
       "         'Late (16-30 days)': 364,\n",
       "         'Late (31-120 days)': 2049})"
      ]
     },
     "execution_count": 31,
     "metadata": {},
     "output_type": "execute_result"
    }
   ],
   "source": [
    "Counter(loandata12to13['loan_status'])"
   ]
  },
  {
   "cell_type": "markdown",
   "metadata": {},
   "source": [
    "Explore the percentage of loans in bad standing vs. good standing"
   ]
  },
  {
   "cell_type": "code",
   "execution_count": 32,
   "metadata": {
    "collapsed": false
   },
   "outputs": [
    {
     "data": {
      "text/plain": [
       "0.14871409093046217"
      ]
     },
     "execution_count": 32,
     "metadata": {},
     "output_type": "execute_result"
    }
   ],
   "source": [
    "6326./(36212+6326)"
   ]
  },
  {
   "cell_type": "code",
   "execution_count": 33,
   "metadata": {
    "collapsed": false
   },
   "outputs": [
    {
     "data": {
      "text/plain": [
       "Counter({0: 22636, 1: 165489})"
      ]
     },
     "execution_count": 33,
     "metadata": {},
     "output_type": "execute_result"
    }
   ],
   "source": [
    "Counter(loandata12to13['loan_status_code'])"
   ]
  },
  {
   "cell_type": "code",
   "execution_count": 34,
   "metadata": {
    "collapsed": false
   },
   "outputs": [
    {
     "data": {
      "text/plain": [
       "0.12032425249169436"
      ]
     },
     "execution_count": 34,
     "metadata": {},
     "output_type": "execute_result"
    }
   ],
   "source": [
    "22636./(165489+22636)"
   ]
  },
  {
   "cell_type": "code",
   "execution_count": 35,
   "metadata": {
    "collapsed": false
   },
   "outputs": [
    {
     "data": {
      "text/plain": [
       "0.1255597993609725"
      ]
     },
     "execution_count": 35,
     "metadata": {},
     "output_type": "execute_result"
    }
   ],
   "source": [
    "float(6326+22636)/(36212+6326+165489+22636)"
   ]
  },
  {
   "cell_type": "code",
   "execution_count": 36,
   "metadata": {
    "collapsed": false
   },
   "outputs": [
    {
     "data": {
      "text/plain": [
       "Counter({0: 13350, 1: 222281})"
      ]
     },
     "execution_count": 36,
     "metadata": {},
     "output_type": "execute_result"
    }
   ],
   "source": [
    "Counter(loandata13to14['loan_status_code'])"
   ]
  },
  {
   "cell_type": "code",
   "execution_count": 37,
   "metadata": {
    "collapsed": false
   },
   "outputs": [
    {
     "data": {
      "text/plain": [
       "0.05665638222474972"
      ]
     },
     "execution_count": 37,
     "metadata": {},
     "output_type": "execute_result"
    }
   ],
   "source": [
    "13350./(222281+13350)"
   ]
  },
  {
   "cell_type": "code",
   "execution_count": 40,
   "metadata": {
    "collapsed": false
   },
   "outputs": [
    {
     "data": {
      "text/plain": [
       "0    Dec-2013\n",
       "1    Dec-2013\n",
       "2    Dec-2013\n",
       "3    Dec-2013\n",
       "4    Dec-2013\n",
       "Name: issue_d, dtype: object"
      ]
     },
     "execution_count": 40,
     "metadata": {},
     "output_type": "execute_result"
    }
   ],
   "source": [
    "loandata12to13['issue_d'].head()"
   ]
  },
  {
   "cell_type": "code",
   "execution_count": 41,
   "metadata": {
    "collapsed": true
   },
   "outputs": [],
   "source": [
    "loan_samples=pd.concat([loandata07to11,loandata12to13], ignore_index=True)"
   ]
  },
  {
   "cell_type": "code",
   "execution_count": 42,
   "metadata": {
    "collapsed": true
   },
   "outputs": [],
   "source": [
    "loan_samples.to_csv(\"loandata07to13.csv\")"
   ]
  },
  {
   "cell_type": "code",
   "execution_count": 43,
   "metadata": {
    "collapsed": false
   },
   "outputs": [
    {
     "data": {
      "text/plain": [
       "array(['id', 'member_id', 'loan_amnt', 'funded_amnt', 'funded_amnt_inv',\n",
       "       'term', 'int_rate', 'installment', 'grade', 'sub_grade',\n",
       "       'emp_title', 'emp_length', 'home_ownership', 'annual_inc',\n",
       "       'verification_status', 'issue_d', 'loan_status', 'pymnt_plan',\n",
       "       'url', 'desc', 'purpose', 'title', 'zip_code', 'addr_state', 'dti',\n",
       "       'delinq_2yrs', 'earliest_cr_line', 'fico_range_low',\n",
       "       'fico_range_high', 'inq_last_6mths', 'mths_since_last_delinq',\n",
       "       'mths_since_last_record', 'open_acc', 'pub_rec', 'revol_bal',\n",
       "       'revol_util', 'total_acc', 'initial_list_status', 'out_prncp',\n",
       "       'out_prncp_inv', 'total_pymnt', 'total_pymnt_inv',\n",
       "       'total_rec_prncp', 'total_rec_int', 'total_rec_late_fee',\n",
       "       'recoveries', 'collection_recovery_fee', 'last_pymnt_d',\n",
       "       'last_pymnt_amnt', 'next_pymnt_d', 'last_credit_pull_d',\n",
       "       'last_fico_range_high', 'last_fico_range_low',\n",
       "       'collections_12_mths_ex_med', 'mths_since_last_major_derog',\n",
       "       'policy_code', 'application_type', 'annual_inc_joint', 'dti_joint',\n",
       "       'verification_status_joint', 'acc_now_delinq', 'tot_coll_amt',\n",
       "       'tot_cur_bal', 'open_acc_6m', 'open_il_6m', 'open_il_12m',\n",
       "       'open_il_24m', 'mths_since_rcnt_il', 'total_bal_il', 'il_util',\n",
       "       'open_rv_12m', 'open_rv_24m', 'max_bal_bc', 'all_util',\n",
       "       'total_credit_rv', 'inq_fi', 'total_fi_tl', 'inq_last_12m',\n",
       "       'loan_status_code'], dtype=object)"
      ]
     },
     "execution_count": 43,
     "metadata": {},
     "output_type": "execute_result"
    }
   ],
   "source": [
    "loan_samples.columns[:].ravel()"
   ]
  },
  {
   "cell_type": "code",
   "execution_count": 45,
   "metadata": {
    "collapsed": false
   },
   "outputs": [
    {
     "data": {
      "text/plain": [
       "Counter({nan: 5,\n",
       "         'A': 38759,\n",
       "         'B': 74994,\n",
       "         'C': 58728,\n",
       "         'D': 33897,\n",
       "         'E': 15636,\n",
       "         'F': 7007,\n",
       "         'G': 1637})"
      ]
     },
     "execution_count": 45,
     "metadata": {},
     "output_type": "execute_result"
    }
   ],
   "source": [
    "Counter(loan_samples['grade'])"
   ]
  },
  {
   "cell_type": "code",
   "execution_count": 46,
   "metadata": {
    "collapsed": false
   },
   "outputs": [],
   "source": [
    "loan_samples_a=loan_samples[loan_samples['grade']=='A']"
   ]
  },
  {
   "cell_type": "code",
   "execution_count": 47,
   "metadata": {
    "collapsed": true
   },
   "outputs": [],
   "source": [
    "loan_samples_b=loan_samples[loan_samples['grade']=='B']"
   ]
  },
  {
   "cell_type": "code",
   "execution_count": 48,
   "metadata": {
    "collapsed": true
   },
   "outputs": [],
   "source": [
    "loan_samples_c=loan_samples[loan_samples['grade']=='C']"
   ]
  },
  {
   "cell_type": "code",
   "execution_count": 49,
   "metadata": {
    "collapsed": true
   },
   "outputs": [],
   "source": [
    "loan_samples_d=loan_samples[loan_samples['grade']=='D']"
   ]
  },
  {
   "cell_type": "code",
   "execution_count": 50,
   "metadata": {
    "collapsed": true
   },
   "outputs": [],
   "source": [
    "loan_samples_e=loan_samples[loan_samples['grade']=='E']"
   ]
  },
  {
   "cell_type": "code",
   "execution_count": 51,
   "metadata": {
    "collapsed": true
   },
   "outputs": [],
   "source": [
    "loan_samples_f=loan_samples[loan_samples['grade']=='F']"
   ]
  },
  {
   "cell_type": "code",
   "execution_count": 52,
   "metadata": {
    "collapsed": true
   },
   "outputs": [],
   "source": [
    "loan_samples_g=loan_samples[loan_samples['grade']=='G']"
   ]
  },
  {
   "cell_type": "markdown",
   "metadata": {},
   "source": [
    "Explore the statistics of different loan grades"
   ]
  },
  {
   "cell_type": "code",
   "execution_count": 53,
   "metadata": {
    "collapsed": false
   },
   "outputs": [
    {
     "data": {
      "text/plain": [
       "6.778256305348443"
      ]
     },
     "execution_count": 53,
     "metadata": {},
     "output_type": "execute_result"
    }
   ],
   "source": [
    "loan_samples_a['emp_code'].mean()"
   ]
  },
  {
   "cell_type": "code",
   "execution_count": 54,
   "metadata": {
    "collapsed": false
   },
   "outputs": [
    {
     "data": {
      "text/plain": [
       "6.8658568787958805"
      ]
     },
     "execution_count": 54,
     "metadata": {},
     "output_type": "execute_result"
    }
   ],
   "source": [
    "loan_samples_b['emp_code'].mean()"
   ]
  },
  {
   "cell_type": "code",
   "execution_count": 55,
   "metadata": {
    "collapsed": false
   },
   "outputs": [
    {
     "data": {
      "text/plain": [
       "6.942623822008078"
      ]
     },
     "execution_count": 55,
     "metadata": {},
     "output_type": "execute_result"
    }
   ],
   "source": [
    "loan_samples_c['emp_code'].mean()"
   ]
  },
  {
   "cell_type": "code",
   "execution_count": 56,
   "metadata": {
    "collapsed": false
   },
   "outputs": [
    {
     "data": {
      "text/plain": [
       "6.788980682411474"
      ]
     },
     "execution_count": 56,
     "metadata": {},
     "output_type": "execute_result"
    }
   ],
   "source": [
    "loan_samples_d['emp_code'].mean()"
   ]
  },
  {
   "cell_type": "code",
   "execution_count": 57,
   "metadata": {
    "collapsed": false
   },
   "outputs": [
    {
     "data": {
      "text/plain": [
       "6.937838551988373"
      ]
     },
     "execution_count": 57,
     "metadata": {},
     "output_type": "execute_result"
    }
   ],
   "source": [
    "loan_samples_e['emp_code'].mean()"
   ]
  },
  {
   "cell_type": "code",
   "execution_count": 58,
   "metadata": {
    "collapsed": false
   },
   "outputs": [
    {
     "data": {
      "text/plain": [
       "7.104374633000587"
      ]
     },
     "execution_count": 58,
     "metadata": {},
     "output_type": "execute_result"
    }
   ],
   "source": [
    "loan_samples_f['emp_code'].mean()"
   ]
  },
  {
   "cell_type": "code",
   "execution_count": 59,
   "metadata": {
    "collapsed": false
   },
   "outputs": [
    {
     "data": {
      "text/plain": [
       "6.919475655430712"
      ]
     },
     "execution_count": 59,
     "metadata": {},
     "output_type": "execute_result"
    }
   ],
   "source": [
    "loan_samples_g['emp_code'].mean()"
   ]
  },
  {
   "cell_type": "code",
   "execution_count": 60,
   "metadata": {
    "collapsed": false
   },
   "outputs": [
    {
     "data": {
      "text/plain": [
       "14.015918109342385"
      ]
     },
     "execution_count": 60,
     "metadata": {},
     "output_type": "execute_result"
    }
   ],
   "source": [
    "loan_samples_a['dti'].mean()"
   ]
  },
  {
   "cell_type": "code",
   "execution_count": 61,
   "metadata": {
    "collapsed": false
   },
   "outputs": [
    {
     "data": {
      "text/plain": [
       "16.23290236552272"
      ]
     },
     "execution_count": 61,
     "metadata": {},
     "output_type": "execute_result"
    }
   ],
   "source": [
    "loan_samples_b['dti'].mean()"
   ]
  },
  {
   "cell_type": "code",
   "execution_count": 62,
   "metadata": {
    "collapsed": false
   },
   "outputs": [
    {
     "data": {
      "text/plain": [
       "17.15343124233752"
      ]
     },
     "execution_count": 62,
     "metadata": {},
     "output_type": "execute_result"
    }
   ],
   "source": [
    "loan_samples_c['dti'].mean()"
   ]
  },
  {
   "cell_type": "code",
   "execution_count": 63,
   "metadata": {
    "collapsed": false
   },
   "outputs": [
    {
     "data": {
      "text/plain": [
       "17.209808242617328"
      ]
     },
     "execution_count": 63,
     "metadata": {},
     "output_type": "execute_result"
    }
   ],
   "source": [
    "loan_samples_d['dti'].mean()"
   ]
  },
  {
   "cell_type": "code",
   "execution_count": 64,
   "metadata": {
    "collapsed": false
   },
   "outputs": [
    {
     "data": {
      "text/plain": [
       "17.459171143514926"
      ]
     },
     "execution_count": 64,
     "metadata": {},
     "output_type": "execute_result"
    }
   ],
   "source": [
    "loan_samples_e['dti'].mean()"
   ]
  },
  {
   "cell_type": "code",
   "execution_count": 65,
   "metadata": {
    "collapsed": false
   },
   "outputs": [
    {
     "data": {
      "text/plain": [
       "17.805390323961777"
      ]
     },
     "execution_count": 65,
     "metadata": {},
     "output_type": "execute_result"
    }
   ],
   "source": [
    "loan_samples_f['dti'].mean()"
   ]
  },
  {
   "cell_type": "code",
   "execution_count": 66,
   "metadata": {
    "collapsed": false
   },
   "outputs": [
    {
     "data": {
      "text/plain": [
       "17.614208918753796"
      ]
     },
     "execution_count": 66,
     "metadata": {},
     "output_type": "execute_result"
    }
   ],
   "source": [
    "loan_samples_g['dti'].mean()"
   ]
  },
  {
   "cell_type": "code",
   "execution_count": 67,
   "metadata": {
    "collapsed": false
   },
   "outputs": [
    {
     "data": {
      "text/plain": [
       "743.766093036456"
      ]
     },
     "execution_count": 67,
     "metadata": {},
     "output_type": "execute_result"
    }
   ],
   "source": [
    "loan_samples_a['fico_range_high'].mean()"
   ]
  },
  {
   "cell_type": "code",
   "execution_count": 68,
   "metadata": {
    "collapsed": false
   },
   "outputs": [
    {
     "data": {
      "text/plain": [
       "706.434848121183"
      ]
     },
     "execution_count": 68,
     "metadata": {},
     "output_type": "execute_result"
    }
   ],
   "source": [
    "loan_samples_b['fico_range_high'].mean()"
   ]
  },
  {
   "cell_type": "code",
   "execution_count": 69,
   "metadata": {
    "collapsed": false
   },
   "outputs": [
    {
     "data": {
      "text/plain": [
       "693.2408561503883"
      ]
     },
     "execution_count": 69,
     "metadata": {},
     "output_type": "execute_result"
    }
   ],
   "source": [
    "loan_samples_c['fico_range_high'].mean()"
   ]
  },
  {
   "cell_type": "code",
   "execution_count": 70,
   "metadata": {
    "collapsed": false
   },
   "outputs": [
    {
     "data": {
      "text/plain": [
       "685.7896864029265"
      ]
     },
     "execution_count": 70,
     "metadata": {},
     "output_type": "execute_result"
    }
   ],
   "source": [
    "loan_samples_d['fico_range_high'].mean()"
   ]
  },
  {
   "cell_type": "code",
   "execution_count": 71,
   "metadata": {
    "collapsed": false
   },
   "outputs": [
    {
     "data": {
      "text/plain": [
       "684.2849194167306"
      ]
     },
     "execution_count": 71,
     "metadata": {},
     "output_type": "execute_result"
    }
   ],
   "source": [
    "loan_samples_e['fico_range_high'].mean()"
   ]
  },
  {
   "cell_type": "code",
   "execution_count": 72,
   "metadata": {
    "collapsed": false
   },
   "outputs": [
    {
     "data": {
      "text/plain": [
       "680.5284715284715"
      ]
     },
     "execution_count": 72,
     "metadata": {},
     "output_type": "execute_result"
    }
   ],
   "source": [
    "loan_samples_f['fico_range_high'].mean()"
   ]
  },
  {
   "cell_type": "code",
   "execution_count": 73,
   "metadata": {
    "collapsed": false
   },
   "outputs": [
    {
     "data": {
      "text/plain": [
       "675.6249236408064"
      ]
     },
     "execution_count": 73,
     "metadata": {},
     "output_type": "execute_result"
    }
   ],
   "source": [
    "loan_samples_g['fico_range_high'].mean()"
   ]
  },
  {
   "cell_type": "code",
   "execution_count": 74,
   "metadata": {
    "collapsed": false
   },
   "outputs": [
    {
     "data": {
      "text/plain": [
       "78046.2643400852"
      ]
     },
     "execution_count": 74,
     "metadata": {},
     "output_type": "execute_result"
    }
   ],
   "source": [
    "loan_samples_a['annual_inc'].mean()"
   ]
  },
  {
   "cell_type": "code",
   "execution_count": 75,
   "metadata": {
    "collapsed": false
   },
   "outputs": [
    {
     "data": {
      "text/plain": [
       "69687.67370549653"
      ]
     },
     "execution_count": 75,
     "metadata": {},
     "output_type": "execute_result"
    }
   ],
   "source": [
    "loan_samples_b['annual_inc'].mean()"
   ]
  },
  {
   "cell_type": "code",
   "execution_count": 76,
   "metadata": {
    "collapsed": false
   },
   "outputs": [
    {
     "data": {
      "text/plain": [
       "68615.83004393142"
      ]
     },
     "execution_count": 76,
     "metadata": {},
     "output_type": "execute_result"
    }
   ],
   "source": [
    "loan_samples_c['annual_inc'].mean()"
   ]
  },
  {
   "cell_type": "code",
   "execution_count": 77,
   "metadata": {
    "collapsed": false
   },
   "outputs": [
    {
     "data": {
      "text/plain": [
       "68562.17388087441"
      ]
     },
     "execution_count": 77,
     "metadata": {},
     "output_type": "execute_result"
    }
   ],
   "source": [
    "loan_samples_d['annual_inc'].mean()"
   ]
  },
  {
   "cell_type": "code",
   "execution_count": 78,
   "metadata": {
    "collapsed": false
   },
   "outputs": [
    {
     "data": {
      "text/plain": [
       "77244.49576745971"
      ]
     },
     "execution_count": 78,
     "metadata": {},
     "output_type": "execute_result"
    }
   ],
   "source": [
    "loan_samples_e['annual_inc'].mean()"
   ]
  },
  {
   "cell_type": "code",
   "execution_count": 79,
   "metadata": {
    "collapsed": false
   },
   "outputs": [
    {
     "data": {
      "text/plain": [
       "80357.39447409728"
      ]
     },
     "execution_count": 79,
     "metadata": {},
     "output_type": "execute_result"
    }
   ],
   "source": [
    "loan_samples_f['annual_inc'].mean()"
   ]
  },
  {
   "cell_type": "code",
   "execution_count": 80,
   "metadata": {
    "collapsed": false
   },
   "outputs": [
    {
     "data": {
      "text/plain": [
       "94555.622516799"
      ]
     },
     "execution_count": 80,
     "metadata": {},
     "output_type": "execute_result"
    }
   ],
   "source": [
    "loan_samples_g['annual_inc'].mean()"
   ]
  },
  {
   "cell_type": "code",
   "execution_count": 81,
   "metadata": {
    "collapsed": true
   },
   "outputs": [],
   "source": [
    "loansubset=loan_samples[['loan_amnt', 'funded_amnt', 'emp_length', 'home_ownership', 'annual_inc', 'purpose','earliest_cr_line',\\\n",
    "                          'open_acc', 'total_acc','dti','fico_range_low','fico_range_high','loan_status']]"
   ]
  },
  {
   "cell_type": "code",
   "execution_count": 82,
   "metadata": {
    "collapsed": false
   },
   "outputs": [
    {
     "name": "stderr",
     "output_type": "stream",
     "text": [
      "/anaconda/lib/python2.7/site-packages/ipykernel/__main__.py:36: SettingWithCopyWarning: \n",
      "A value is trying to be set on a copy of a slice from a DataFrame.\n",
      "Try using .loc[row_indexer,col_indexer] = value instead\n",
      "\n",
      "See the caveats in the documentation: http://pandas.pydata.org/pandas-docs/stable/indexing.html#indexing-view-versus-copy\n"
     ]
    }
   ],
   "source": [
    "def emp_apply(x):\n",
    "    if x=='< 1 year':\n",
    "        status=1\n",
    "        return status\n",
    "    elif x=='1 year':\n",
    "        status=2\n",
    "        return status\n",
    "    elif x=='2 years':\n",
    "        status=3\n",
    "        return status\n",
    "    elif x=='3 years':\n",
    "        status=4\n",
    "        return status\n",
    "    elif x=='4 years':\n",
    "        status=5\n",
    "        return status\n",
    "    elif x=='5 years':\n",
    "        status=6\n",
    "        return status\n",
    "    elif x=='6 years':\n",
    "        status=7\n",
    "        return status\n",
    "    elif x=='7 years':\n",
    "        status=8\n",
    "        return status\n",
    "    elif x=='8 years':\n",
    "        status=9\n",
    "        return status\n",
    "    elif x=='9 years':\n",
    "        status=10\n",
    "        return status\n",
    "    elif x=='10+ years':\n",
    "        status=11\n",
    "        return status\n",
    "        \n",
    "loansubset['emp_code'] = loansubset['emp_length'].apply(lambda x: emp_apply(x))        "
   ]
  },
  {
   "cell_type": "code",
   "execution_count": 83,
   "metadata": {
    "collapsed": false
   },
   "outputs": [
    {
     "name": "stderr",
     "output_type": "stream",
     "text": [
      "/anaconda/lib/python2.7/site-packages/ipykernel/__main__.py:20: SettingWithCopyWarning: \n",
      "A value is trying to be set on a copy of a slice from a DataFrame.\n",
      "Try using .loc[row_indexer,col_indexer] = value instead\n",
      "\n",
      "See the caveats in the documentation: http://pandas.pydata.org/pandas-docs/stable/indexing.html#indexing-view-versus-copy\n"
     ]
    }
   ],
   "source": [
    "\n",
    "loansubset['loan_status_code'] = loansubset['loan_status'].apply(lambda x: loan_status_apply(x))"
   ]
  },
  {
   "cell_type": "code",
   "execution_count": 84,
   "metadata": {
    "collapsed": false
   },
   "outputs": [
    {
     "name": "stderr",
     "output_type": "stream",
     "text": [
      "/anaconda/lib/python2.7/site-packages/ipykernel/__main__.py:8: SettingWithCopyWarning: \n",
      "A value is trying to be set on a copy of a slice from a DataFrame.\n",
      "Try using .loc[row_indexer,col_indexer] = value instead\n",
      "\n",
      "See the caveats in the documentation: http://pandas.pydata.org/pandas-docs/stable/indexing.html#indexing-view-versus-copy\n"
     ]
    }
   ],
   "source": [
    "def rent_apply(x):\n",
    "    if x=='RENT':\n",
    "        status=1\n",
    "    \n",
    "    else: \n",
    "        status=0\n",
    "    return status\n",
    "loansubset['is_renter'] = loansubset['home_ownership'].apply(lambda x: rent_apply(x))"
   ]
  },
  {
   "cell_type": "code",
   "execution_count": 85,
   "metadata": {
    "collapsed": false
   },
   "outputs": [
    {
     "data": {
      "text/html": [
       "<div>\n",
       "<table border=\"1\" class=\"dataframe\">\n",
       "  <thead>\n",
       "    <tr style=\"text-align: right;\">\n",
       "      <th></th>\n",
       "      <th>loan_amnt</th>\n",
       "      <th>funded_amnt</th>\n",
       "      <th>emp_length</th>\n",
       "      <th>home_ownership</th>\n",
       "      <th>annual_inc</th>\n",
       "      <th>purpose</th>\n",
       "      <th>earliest_cr_line</th>\n",
       "      <th>open_acc</th>\n",
       "      <th>total_acc</th>\n",
       "      <th>dti</th>\n",
       "      <th>fico_range_low</th>\n",
       "      <th>fico_range_high</th>\n",
       "      <th>loan_status</th>\n",
       "      <th>emp_code</th>\n",
       "      <th>loan_status_code</th>\n",
       "      <th>is_renter</th>\n",
       "    </tr>\n",
       "  </thead>\n",
       "  <tbody>\n",
       "    <tr>\n",
       "      <th>0</th>\n",
       "      <td>5000</td>\n",
       "      <td>5000</td>\n",
       "      <td>10+ years</td>\n",
       "      <td>RENT</td>\n",
       "      <td>24000</td>\n",
       "      <td>credit_card</td>\n",
       "      <td>Jan-1985</td>\n",
       "      <td>3</td>\n",
       "      <td>9</td>\n",
       "      <td>27.65</td>\n",
       "      <td>735</td>\n",
       "      <td>739</td>\n",
       "      <td>Fully Paid</td>\n",
       "      <td>11</td>\n",
       "      <td>1</td>\n",
       "      <td>1</td>\n",
       "    </tr>\n",
       "    <tr>\n",
       "      <th>1</th>\n",
       "      <td>2500</td>\n",
       "      <td>2500</td>\n",
       "      <td>&lt; 1 year</td>\n",
       "      <td>RENT</td>\n",
       "      <td>30000</td>\n",
       "      <td>car</td>\n",
       "      <td>Apr-1999</td>\n",
       "      <td>3</td>\n",
       "      <td>4</td>\n",
       "      <td>1.00</td>\n",
       "      <td>740</td>\n",
       "      <td>744</td>\n",
       "      <td>Charged Off</td>\n",
       "      <td>1</td>\n",
       "      <td>0</td>\n",
       "      <td>1</td>\n",
       "    </tr>\n",
       "    <tr>\n",
       "      <th>2</th>\n",
       "      <td>2400</td>\n",
       "      <td>2400</td>\n",
       "      <td>10+ years</td>\n",
       "      <td>RENT</td>\n",
       "      <td>12252</td>\n",
       "      <td>small_business</td>\n",
       "      <td>Nov-2001</td>\n",
       "      <td>2</td>\n",
       "      <td>10</td>\n",
       "      <td>8.72</td>\n",
       "      <td>735</td>\n",
       "      <td>739</td>\n",
       "      <td>Fully Paid</td>\n",
       "      <td>11</td>\n",
       "      <td>1</td>\n",
       "      <td>1</td>\n",
       "    </tr>\n",
       "    <tr>\n",
       "      <th>3</th>\n",
       "      <td>10000</td>\n",
       "      <td>10000</td>\n",
       "      <td>10+ years</td>\n",
       "      <td>RENT</td>\n",
       "      <td>49200</td>\n",
       "      <td>other</td>\n",
       "      <td>Feb-1996</td>\n",
       "      <td>10</td>\n",
       "      <td>37</td>\n",
       "      <td>20.00</td>\n",
       "      <td>690</td>\n",
       "      <td>694</td>\n",
       "      <td>Fully Paid</td>\n",
       "      <td>11</td>\n",
       "      <td>1</td>\n",
       "      <td>1</td>\n",
       "    </tr>\n",
       "    <tr>\n",
       "      <th>4</th>\n",
       "      <td>3000</td>\n",
       "      <td>3000</td>\n",
       "      <td>1 year</td>\n",
       "      <td>RENT</td>\n",
       "      <td>80000</td>\n",
       "      <td>other</td>\n",
       "      <td>Jan-1996</td>\n",
       "      <td>15</td>\n",
       "      <td>38</td>\n",
       "      <td>17.94</td>\n",
       "      <td>695</td>\n",
       "      <td>699</td>\n",
       "      <td>Current</td>\n",
       "      <td>2</td>\n",
       "      <td>1</td>\n",
       "      <td>1</td>\n",
       "    </tr>\n",
       "  </tbody>\n",
       "</table>\n",
       "</div>"
      ],
      "text/plain": [
       "   loan_amnt  funded_amnt emp_length home_ownership  annual_inc  \\\n",
       "0       5000         5000  10+ years           RENT       24000   \n",
       "1       2500         2500   < 1 year           RENT       30000   \n",
       "2       2400         2400  10+ years           RENT       12252   \n",
       "3      10000        10000  10+ years           RENT       49200   \n",
       "4       3000         3000     1 year           RENT       80000   \n",
       "\n",
       "          purpose earliest_cr_line  open_acc  total_acc    dti  \\\n",
       "0     credit_card         Jan-1985         3          9  27.65   \n",
       "1             car         Apr-1999         3          4   1.00   \n",
       "2  small_business         Nov-2001         2         10   8.72   \n",
       "3           other         Feb-1996        10         37  20.00   \n",
       "4           other         Jan-1996        15         38  17.94   \n",
       "\n",
       "   fico_range_low  fico_range_high  loan_status  emp_code  loan_status_code  \\\n",
       "0             735              739   Fully Paid        11                 1   \n",
       "1             740              744  Charged Off         1                 0   \n",
       "2             735              739   Fully Paid        11                 1   \n",
       "3             690              694   Fully Paid        11                 1   \n",
       "4             695              699      Current         2                 1   \n",
       "\n",
       "   is_renter  \n",
       "0          1  \n",
       "1          1  \n",
       "2          1  \n",
       "3          1  \n",
       "4          1  "
      ]
     },
     "execution_count": 85,
     "metadata": {},
     "output_type": "execute_result"
    }
   ],
   "source": [
    "loansubset.head()"
   ]
  },
  {
   "cell_type": "code",
   "execution_count": 86,
   "metadata": {
    "collapsed": true
   },
   "outputs": [],
   "source": [
    "loan_purpose=pd.get_dummies(loansubset['purpose'])\n",
    "loan_homeownership=pd.get_dummies(loansubset['home_ownership'])"
   ]
  },
  {
   "cell_type": "code",
   "execution_count": 87,
   "metadata": {
    "collapsed": true
   },
   "outputs": [],
   "source": [
    "loan_table_home_added=pd.concat([loansubset,loan_homeownership],axis=1)\n",
    "loan_table_home_purpose_added=pd.concat([loan_table_home_added,loan_purpose],axis=1)"
   ]
  },
  {
   "cell_type": "code",
   "execution_count": 88,
   "metadata": {
    "collapsed": false
   },
   "outputs": [
    {
     "data": {
      "text/html": [
       "<div>\n",
       "<table border=\"1\" class=\"dataframe\">\n",
       "  <thead>\n",
       "    <tr style=\"text-align: right;\">\n",
       "      <th></th>\n",
       "      <th>loan_amnt</th>\n",
       "      <th>funded_amnt</th>\n",
       "      <th>emp_length</th>\n",
       "      <th>home_ownership</th>\n",
       "      <th>annual_inc</th>\n",
       "      <th>purpose</th>\n",
       "      <th>earliest_cr_line</th>\n",
       "      <th>open_acc</th>\n",
       "      <th>total_acc</th>\n",
       "      <th>dti</th>\n",
       "      <th>...</th>\n",
       "      <th>home_improvement</th>\n",
       "      <th>house</th>\n",
       "      <th>major_purchase</th>\n",
       "      <th>medical</th>\n",
       "      <th>moving</th>\n",
       "      <th>other</th>\n",
       "      <th>renewable_energy</th>\n",
       "      <th>small_business</th>\n",
       "      <th>vacation</th>\n",
       "      <th>wedding</th>\n",
       "    </tr>\n",
       "  </thead>\n",
       "  <tbody>\n",
       "    <tr>\n",
       "      <th>0</th>\n",
       "      <td>5000</td>\n",
       "      <td>5000</td>\n",
       "      <td>10+ years</td>\n",
       "      <td>RENT</td>\n",
       "      <td>24000</td>\n",
       "      <td>credit_card</td>\n",
       "      <td>Jan-1985</td>\n",
       "      <td>3</td>\n",
       "      <td>9</td>\n",
       "      <td>27.65</td>\n",
       "      <td>...</td>\n",
       "      <td>0</td>\n",
       "      <td>0</td>\n",
       "      <td>0</td>\n",
       "      <td>0</td>\n",
       "      <td>0</td>\n",
       "      <td>0</td>\n",
       "      <td>0</td>\n",
       "      <td>0</td>\n",
       "      <td>0</td>\n",
       "      <td>0</td>\n",
       "    </tr>\n",
       "    <tr>\n",
       "      <th>1</th>\n",
       "      <td>2500</td>\n",
       "      <td>2500</td>\n",
       "      <td>&lt; 1 year</td>\n",
       "      <td>RENT</td>\n",
       "      <td>30000</td>\n",
       "      <td>car</td>\n",
       "      <td>Apr-1999</td>\n",
       "      <td>3</td>\n",
       "      <td>4</td>\n",
       "      <td>1.00</td>\n",
       "      <td>...</td>\n",
       "      <td>0</td>\n",
       "      <td>0</td>\n",
       "      <td>0</td>\n",
       "      <td>0</td>\n",
       "      <td>0</td>\n",
       "      <td>0</td>\n",
       "      <td>0</td>\n",
       "      <td>0</td>\n",
       "      <td>0</td>\n",
       "      <td>0</td>\n",
       "    </tr>\n",
       "    <tr>\n",
       "      <th>2</th>\n",
       "      <td>2400</td>\n",
       "      <td>2400</td>\n",
       "      <td>10+ years</td>\n",
       "      <td>RENT</td>\n",
       "      <td>12252</td>\n",
       "      <td>small_business</td>\n",
       "      <td>Nov-2001</td>\n",
       "      <td>2</td>\n",
       "      <td>10</td>\n",
       "      <td>8.72</td>\n",
       "      <td>...</td>\n",
       "      <td>0</td>\n",
       "      <td>0</td>\n",
       "      <td>0</td>\n",
       "      <td>0</td>\n",
       "      <td>0</td>\n",
       "      <td>0</td>\n",
       "      <td>0</td>\n",
       "      <td>1</td>\n",
       "      <td>0</td>\n",
       "      <td>0</td>\n",
       "    </tr>\n",
       "    <tr>\n",
       "      <th>3</th>\n",
       "      <td>10000</td>\n",
       "      <td>10000</td>\n",
       "      <td>10+ years</td>\n",
       "      <td>RENT</td>\n",
       "      <td>49200</td>\n",
       "      <td>other</td>\n",
       "      <td>Feb-1996</td>\n",
       "      <td>10</td>\n",
       "      <td>37</td>\n",
       "      <td>20.00</td>\n",
       "      <td>...</td>\n",
       "      <td>0</td>\n",
       "      <td>0</td>\n",
       "      <td>0</td>\n",
       "      <td>0</td>\n",
       "      <td>0</td>\n",
       "      <td>1</td>\n",
       "      <td>0</td>\n",
       "      <td>0</td>\n",
       "      <td>0</td>\n",
       "      <td>0</td>\n",
       "    </tr>\n",
       "    <tr>\n",
       "      <th>4</th>\n",
       "      <td>3000</td>\n",
       "      <td>3000</td>\n",
       "      <td>1 year</td>\n",
       "      <td>RENT</td>\n",
       "      <td>80000</td>\n",
       "      <td>other</td>\n",
       "      <td>Jan-1996</td>\n",
       "      <td>15</td>\n",
       "      <td>38</td>\n",
       "      <td>17.94</td>\n",
       "      <td>...</td>\n",
       "      <td>0</td>\n",
       "      <td>0</td>\n",
       "      <td>0</td>\n",
       "      <td>0</td>\n",
       "      <td>0</td>\n",
       "      <td>1</td>\n",
       "      <td>0</td>\n",
       "      <td>0</td>\n",
       "      <td>0</td>\n",
       "      <td>0</td>\n",
       "    </tr>\n",
       "  </tbody>\n",
       "</table>\n",
       "<p>5 rows × 35 columns</p>\n",
       "</div>"
      ],
      "text/plain": [
       "   loan_amnt  funded_amnt emp_length home_ownership  annual_inc  \\\n",
       "0       5000         5000  10+ years           RENT       24000   \n",
       "1       2500         2500   < 1 year           RENT       30000   \n",
       "2       2400         2400  10+ years           RENT       12252   \n",
       "3      10000        10000  10+ years           RENT       49200   \n",
       "4       3000         3000     1 year           RENT       80000   \n",
       "\n",
       "          purpose earliest_cr_line  open_acc  total_acc    dti   ...     \\\n",
       "0     credit_card         Jan-1985         3          9  27.65   ...      \n",
       "1             car         Apr-1999         3          4   1.00   ...      \n",
       "2  small_business         Nov-2001         2         10   8.72   ...      \n",
       "3           other         Feb-1996        10         37  20.00   ...      \n",
       "4           other         Jan-1996        15         38  17.94   ...      \n",
       "\n",
       "   home_improvement  house major_purchase  medical  moving  other  \\\n",
       "0                 0      0              0        0       0      0   \n",
       "1                 0      0              0        0       0      0   \n",
       "2                 0      0              0        0       0      0   \n",
       "3                 0      0              0        0       0      1   \n",
       "4                 0      0              0        0       0      1   \n",
       "\n",
       "   renewable_energy  small_business  vacation  wedding  \n",
       "0                 0               0         0        0  \n",
       "1                 0               0         0        0  \n",
       "2                 0               1         0        0  \n",
       "3                 0               0         0        0  \n",
       "4                 0               0         0        0  \n",
       "\n",
       "[5 rows x 35 columns]"
      ]
     },
     "execution_count": 88,
     "metadata": {},
     "output_type": "execute_result"
    }
   ],
   "source": [
    "loan_table_home_purpose_added.head()"
   ]
  },
  {
   "cell_type": "code",
   "execution_count": 89,
   "metadata": {
    "collapsed": true
   },
   "outputs": [],
   "source": [
    "loan_data_features=loan_table_home_purpose_added"
   ]
  },
  {
   "cell_type": "markdown",
   "metadata": {},
   "source": [
    "Save a copy of the combined 2007-2013 data into one csv file"
   ]
  },
  {
   "cell_type": "code",
   "execution_count": 90,
   "metadata": {
    "collapsed": false
   },
   "outputs": [],
   "source": [
    "loan_data_features.to_csv('loandata07to13_selectfeat.csv')"
   ]
  },
  {
   "cell_type": "markdown",
   "metadata": {},
   "source": [
    "### Reload data"
   ]
  },
  {
   "cell_type": "code",
   "execution_count": 40,
   "metadata": {
    "collapsed": false
   },
   "outputs": [],
   "source": [
    "del loan_data\n",
    "del loan_data_original"
   ]
  },
  {
   "cell_type": "code",
   "execution_count": 103,
   "metadata": {
    "collapsed": false
   },
   "outputs": [],
   "source": [
    "loan_data=pd.read_csv('loandata07to13_selectfeat.csv')"
   ]
  },
  {
   "cell_type": "code",
   "execution_count": 104,
   "metadata": {
    "collapsed": true
   },
   "outputs": [],
   "source": [
    "loan_data.dropna(inplace=True)"
   ]
  },
  {
   "cell_type": "code",
   "execution_count": 105,
   "metadata": {
    "collapsed": false
   },
   "outputs": [
    {
     "data": {
      "text/plain": [
       "(221640, 36)"
      ]
     },
     "execution_count": 105,
     "metadata": {},
     "output_type": "execute_result"
    }
   ],
   "source": [
    "loan_data.shape"
   ]
  },
  {
   "cell_type": "code",
   "execution_count": 106,
   "metadata": {
    "collapsed": true
   },
   "outputs": [],
   "source": [
    "loan_data_original=loan_data.copy()"
   ]
  },
  {
   "cell_type": "code",
   "execution_count": 107,
   "metadata": {
    "collapsed": true
   },
   "outputs": [],
   "source": [
    "y_data=loan_data_original['loan_status_code']"
   ]
  },
  {
   "cell_type": "code",
   "execution_count": 108,
   "metadata": {
    "collapsed": false
   },
   "outputs": [
    {
     "data": {
      "text/plain": [
       "0    1\n",
       "1    0\n",
       "2    1\n",
       "3    1\n",
       "4    1\n",
       "Name: loan_status_code, dtype: int64"
      ]
     },
     "execution_count": 108,
     "metadata": {},
     "output_type": "execute_result"
    }
   ],
   "source": [
    "y_data.head()"
   ]
  },
  {
   "cell_type": "code",
   "execution_count": 97,
   "metadata": {
    "collapsed": false
   },
   "outputs": [
    {
     "data": {
      "text/plain": [
       "array(['Unnamed: 0', 'loan_amnt', 'funded_amnt', 'emp_length',\n",
       "       'home_ownership', 'annual_inc', 'purpose', 'earliest_cr_line',\n",
       "       'open_acc', 'total_acc', 'dti', 'fico_range_low', 'fico_range_high',\n",
       "       'loan_status', 'emp_code', 'loan_status_code', 'is_renter',\n",
       "       'MORTGAGE', 'NONE', 'OTHER', 'OWN', 'RENT', 'car', 'credit_card',\n",
       "       'debt_consolidation', 'educational', 'home_improvement', 'house',\n",
       "       'major_purchase', 'medical', 'moving', 'other', 'renewable_energy',\n",
       "       'small_business', 'vacation', 'wedding'], dtype=object)"
      ]
     },
     "execution_count": 97,
     "metadata": {},
     "output_type": "execute_result"
    }
   ],
   "source": [
    "loan_data.columns[:].ravel()"
   ]
  },
  {
   "cell_type": "code",
   "execution_count": 98,
   "metadata": {
    "collapsed": false
   },
   "outputs": [
    {
     "data": {
      "text/plain": [
       "0    1\n",
       "1    0\n",
       "2    1\n",
       "3    1\n",
       "4    1\n",
       "Name: loan_status_code, dtype: int64"
      ]
     },
     "execution_count": 98,
     "metadata": {},
     "output_type": "execute_result"
    }
   ],
   "source": [
    "loan_data['loan_status_code'].head()"
   ]
  },
  {
   "cell_type": "code",
   "execution_count": 99,
   "metadata": {
    "collapsed": false
   },
   "outputs": [
    {
     "data": {
      "text/html": [
       "<div>\n",
       "<table border=\"1\" class=\"dataframe\">\n",
       "  <thead>\n",
       "    <tr style=\"text-align: right;\">\n",
       "      <th></th>\n",
       "      <th>Unnamed: 0</th>\n",
       "      <th>loan_amnt</th>\n",
       "      <th>funded_amnt</th>\n",
       "      <th>emp_length</th>\n",
       "      <th>home_ownership</th>\n",
       "      <th>annual_inc</th>\n",
       "      <th>purpose</th>\n",
       "      <th>earliest_cr_line</th>\n",
       "      <th>open_acc</th>\n",
       "      <th>total_acc</th>\n",
       "      <th>...</th>\n",
       "      <th>home_improvement</th>\n",
       "      <th>house</th>\n",
       "      <th>major_purchase</th>\n",
       "      <th>medical</th>\n",
       "      <th>moving</th>\n",
       "      <th>other</th>\n",
       "      <th>renewable_energy</th>\n",
       "      <th>small_business</th>\n",
       "      <th>vacation</th>\n",
       "      <th>wedding</th>\n",
       "    </tr>\n",
       "  </thead>\n",
       "  <tbody>\n",
       "    <tr>\n",
       "      <th>0</th>\n",
       "      <td>0</td>\n",
       "      <td>5000</td>\n",
       "      <td>5000</td>\n",
       "      <td>10+ years</td>\n",
       "      <td>RENT</td>\n",
       "      <td>24000</td>\n",
       "      <td>credit_card</td>\n",
       "      <td>Jan-1985</td>\n",
       "      <td>3</td>\n",
       "      <td>9</td>\n",
       "      <td>...</td>\n",
       "      <td>0</td>\n",
       "      <td>0</td>\n",
       "      <td>0</td>\n",
       "      <td>0</td>\n",
       "      <td>0</td>\n",
       "      <td>0</td>\n",
       "      <td>0</td>\n",
       "      <td>0</td>\n",
       "      <td>0</td>\n",
       "      <td>0</td>\n",
       "    </tr>\n",
       "    <tr>\n",
       "      <th>1</th>\n",
       "      <td>1</td>\n",
       "      <td>2500</td>\n",
       "      <td>2500</td>\n",
       "      <td>&lt; 1 year</td>\n",
       "      <td>RENT</td>\n",
       "      <td>30000</td>\n",
       "      <td>car</td>\n",
       "      <td>Apr-1999</td>\n",
       "      <td>3</td>\n",
       "      <td>4</td>\n",
       "      <td>...</td>\n",
       "      <td>0</td>\n",
       "      <td>0</td>\n",
       "      <td>0</td>\n",
       "      <td>0</td>\n",
       "      <td>0</td>\n",
       "      <td>0</td>\n",
       "      <td>0</td>\n",
       "      <td>0</td>\n",
       "      <td>0</td>\n",
       "      <td>0</td>\n",
       "    </tr>\n",
       "    <tr>\n",
       "      <th>2</th>\n",
       "      <td>2</td>\n",
       "      <td>2400</td>\n",
       "      <td>2400</td>\n",
       "      <td>10+ years</td>\n",
       "      <td>RENT</td>\n",
       "      <td>12252</td>\n",
       "      <td>small_business</td>\n",
       "      <td>Nov-2001</td>\n",
       "      <td>2</td>\n",
       "      <td>10</td>\n",
       "      <td>...</td>\n",
       "      <td>0</td>\n",
       "      <td>0</td>\n",
       "      <td>0</td>\n",
       "      <td>0</td>\n",
       "      <td>0</td>\n",
       "      <td>0</td>\n",
       "      <td>0</td>\n",
       "      <td>1</td>\n",
       "      <td>0</td>\n",
       "      <td>0</td>\n",
       "    </tr>\n",
       "    <tr>\n",
       "      <th>3</th>\n",
       "      <td>3</td>\n",
       "      <td>10000</td>\n",
       "      <td>10000</td>\n",
       "      <td>10+ years</td>\n",
       "      <td>RENT</td>\n",
       "      <td>49200</td>\n",
       "      <td>other</td>\n",
       "      <td>Feb-1996</td>\n",
       "      <td>10</td>\n",
       "      <td>37</td>\n",
       "      <td>...</td>\n",
       "      <td>0</td>\n",
       "      <td>0</td>\n",
       "      <td>0</td>\n",
       "      <td>0</td>\n",
       "      <td>0</td>\n",
       "      <td>1</td>\n",
       "      <td>0</td>\n",
       "      <td>0</td>\n",
       "      <td>0</td>\n",
       "      <td>0</td>\n",
       "    </tr>\n",
       "    <tr>\n",
       "      <th>4</th>\n",
       "      <td>4</td>\n",
       "      <td>3000</td>\n",
       "      <td>3000</td>\n",
       "      <td>1 year</td>\n",
       "      <td>RENT</td>\n",
       "      <td>80000</td>\n",
       "      <td>other</td>\n",
       "      <td>Jan-1996</td>\n",
       "      <td>15</td>\n",
       "      <td>38</td>\n",
       "      <td>...</td>\n",
       "      <td>0</td>\n",
       "      <td>0</td>\n",
       "      <td>0</td>\n",
       "      <td>0</td>\n",
       "      <td>0</td>\n",
       "      <td>1</td>\n",
       "      <td>0</td>\n",
       "      <td>0</td>\n",
       "      <td>0</td>\n",
       "      <td>0</td>\n",
       "    </tr>\n",
       "  </tbody>\n",
       "</table>\n",
       "<p>5 rows × 36 columns</p>\n",
       "</div>"
      ],
      "text/plain": [
       "   Unnamed: 0  loan_amnt  funded_amnt emp_length home_ownership  annual_inc  \\\n",
       "0           0       5000         5000  10+ years           RENT       24000   \n",
       "1           1       2500         2500   < 1 year           RENT       30000   \n",
       "2           2       2400         2400  10+ years           RENT       12252   \n",
       "3           3      10000        10000  10+ years           RENT       49200   \n",
       "4           4       3000         3000     1 year           RENT       80000   \n",
       "\n",
       "          purpose earliest_cr_line  open_acc  total_acc   ...     \\\n",
       "0     credit_card         Jan-1985         3          9   ...      \n",
       "1             car         Apr-1999         3          4   ...      \n",
       "2  small_business         Nov-2001         2         10   ...      \n",
       "3           other         Feb-1996        10         37   ...      \n",
       "4           other         Jan-1996        15         38   ...      \n",
       "\n",
       "   home_improvement  house  major_purchase medical  moving  other  \\\n",
       "0                 0      0               0       0       0      0   \n",
       "1                 0      0               0       0       0      0   \n",
       "2                 0      0               0       0       0      0   \n",
       "3                 0      0               0       0       0      1   \n",
       "4                 0      0               0       0       0      1   \n",
       "\n",
       "   renewable_energy  small_business  vacation  wedding  \n",
       "0                 0               0         0        0  \n",
       "1                 0               0         0        0  \n",
       "2                 0               1         0        0  \n",
       "3                 0               0         0        0  \n",
       "4                 0               0         0        0  \n",
       "\n",
       "[5 rows x 36 columns]"
      ]
     },
     "execution_count": 99,
     "metadata": {},
     "output_type": "execute_result"
    }
   ],
   "source": [
    "loan_data.head()"
   ]
  },
  {
   "cell_type": "code",
   "execution_count": 101,
   "metadata": {
    "collapsed": true
   },
   "outputs": [],
   "source": [
    "loan_data.drop(['Unnamed: 0','loan_status_code','loan_status'],axis=1,inplace=True)"
   ]
  },
  {
   "cell_type": "code",
   "execution_count": 102,
   "metadata": {
    "collapsed": true
   },
   "outputs": [],
   "source": [
    "loan_data.drop(['NONE'],axis=1,inplace=True)"
   ]
  },
  {
   "cell_type": "code",
   "execution_count": 15,
   "metadata": {
    "collapsed": true
   },
   "outputs": [],
   "source": [
    "loan_data.drop(['funded_amnt'],axis=1,inplace=True)"
   ]
  },
  {
   "cell_type": "code",
   "execution_count": 16,
   "metadata": {
    "collapsed": false
   },
   "outputs": [
    {
     "data": {
      "text/plain": [
       "array(['loan_amnt', 'emp_length', 'home_ownership', 'annual_inc',\n",
       "       'purpose', 'earliest_cr_line', 'open_acc', 'total_acc', 'dti',\n",
       "       'fico_range_low', 'fico_range_high', 'emp_code', 'is_renter',\n",
       "       'MORTGAGE', 'OTHER', 'OWN', 'RENT', 'car', 'credit_card',\n",
       "       'debt_consolidation', 'educational', 'home_improvement', 'house',\n",
       "       'major_purchase', 'medical', 'moving', 'other', 'renewable_energy',\n",
       "       'small_business', 'vacation', 'wedding'], dtype=object)"
      ]
     },
     "execution_count": 16,
     "metadata": {},
     "output_type": "execute_result"
    }
   ],
   "source": [
    "loan_data.columns[:].ravel()"
   ]
  },
  {
   "cell_type": "code",
   "execution_count": 17,
   "metadata": {
    "collapsed": true
   },
   "outputs": [],
   "source": [
    "loan_data.drop(['emp_length','home_ownership'],axis=1,inplace=True)"
   ]
  },
  {
   "cell_type": "code",
   "execution_count": 18,
   "metadata": {
    "collapsed": true
   },
   "outputs": [],
   "source": [
    "loan_data.drop(['purpose','earliest_cr_line'],axis=1,inplace=True)"
   ]
  },
  {
   "cell_type": "code",
   "execution_count": 19,
   "metadata": {
    "collapsed": false
   },
   "outputs": [
    {
     "data": {
      "text/plain": [
       "array(['loan_amnt', 'annual_inc', 'open_acc', 'total_acc', 'dti',\n",
       "       'fico_range_low', 'fico_range_high', 'emp_code', 'is_renter',\n",
       "       'MORTGAGE', 'OTHER', 'OWN', 'RENT', 'car', 'credit_card',\n",
       "       'debt_consolidation', 'educational', 'home_improvement', 'house',\n",
       "       'major_purchase', 'medical', 'moving', 'other', 'renewable_energy',\n",
       "       'small_business', 'vacation', 'wedding'], dtype=object)"
      ]
     },
     "execution_count": 19,
     "metadata": {},
     "output_type": "execute_result"
    }
   ],
   "source": [
    "loan_data.columns.ravel()"
   ]
  },
  {
   "cell_type": "code",
   "execution_count": 20,
   "metadata": {
    "collapsed": false
   },
   "outputs": [
    {
     "data": {
      "text/html": [
       "<div>\n",
       "<table border=\"1\" class=\"dataframe\">\n",
       "  <thead>\n",
       "    <tr style=\"text-align: right;\">\n",
       "      <th></th>\n",
       "      <th>loan_amnt</th>\n",
       "      <th>annual_inc</th>\n",
       "      <th>open_acc</th>\n",
       "      <th>total_acc</th>\n",
       "      <th>dti</th>\n",
       "      <th>fico_range_low</th>\n",
       "      <th>fico_range_high</th>\n",
       "      <th>emp_code</th>\n",
       "      <th>is_renter</th>\n",
       "      <th>MORTGAGE</th>\n",
       "      <th>...</th>\n",
       "      <th>home_improvement</th>\n",
       "      <th>house</th>\n",
       "      <th>major_purchase</th>\n",
       "      <th>medical</th>\n",
       "      <th>moving</th>\n",
       "      <th>other</th>\n",
       "      <th>renewable_energy</th>\n",
       "      <th>small_business</th>\n",
       "      <th>vacation</th>\n",
       "      <th>wedding</th>\n",
       "    </tr>\n",
       "  </thead>\n",
       "  <tbody>\n",
       "    <tr>\n",
       "      <th>0</th>\n",
       "      <td>5000</td>\n",
       "      <td>24000</td>\n",
       "      <td>3</td>\n",
       "      <td>9</td>\n",
       "      <td>27.65</td>\n",
       "      <td>735</td>\n",
       "      <td>739</td>\n",
       "      <td>11</td>\n",
       "      <td>1</td>\n",
       "      <td>0</td>\n",
       "      <td>...</td>\n",
       "      <td>0</td>\n",
       "      <td>0</td>\n",
       "      <td>0</td>\n",
       "      <td>0</td>\n",
       "      <td>0</td>\n",
       "      <td>0</td>\n",
       "      <td>0</td>\n",
       "      <td>0</td>\n",
       "      <td>0</td>\n",
       "      <td>0</td>\n",
       "    </tr>\n",
       "    <tr>\n",
       "      <th>1</th>\n",
       "      <td>2500</td>\n",
       "      <td>30000</td>\n",
       "      <td>3</td>\n",
       "      <td>4</td>\n",
       "      <td>1.00</td>\n",
       "      <td>740</td>\n",
       "      <td>744</td>\n",
       "      <td>1</td>\n",
       "      <td>1</td>\n",
       "      <td>0</td>\n",
       "      <td>...</td>\n",
       "      <td>0</td>\n",
       "      <td>0</td>\n",
       "      <td>0</td>\n",
       "      <td>0</td>\n",
       "      <td>0</td>\n",
       "      <td>0</td>\n",
       "      <td>0</td>\n",
       "      <td>0</td>\n",
       "      <td>0</td>\n",
       "      <td>0</td>\n",
       "    </tr>\n",
       "    <tr>\n",
       "      <th>2</th>\n",
       "      <td>2400</td>\n",
       "      <td>12252</td>\n",
       "      <td>2</td>\n",
       "      <td>10</td>\n",
       "      <td>8.72</td>\n",
       "      <td>735</td>\n",
       "      <td>739</td>\n",
       "      <td>11</td>\n",
       "      <td>1</td>\n",
       "      <td>0</td>\n",
       "      <td>...</td>\n",
       "      <td>0</td>\n",
       "      <td>0</td>\n",
       "      <td>0</td>\n",
       "      <td>0</td>\n",
       "      <td>0</td>\n",
       "      <td>0</td>\n",
       "      <td>0</td>\n",
       "      <td>1</td>\n",
       "      <td>0</td>\n",
       "      <td>0</td>\n",
       "    </tr>\n",
       "    <tr>\n",
       "      <th>3</th>\n",
       "      <td>10000</td>\n",
       "      <td>49200</td>\n",
       "      <td>10</td>\n",
       "      <td>37</td>\n",
       "      <td>20.00</td>\n",
       "      <td>690</td>\n",
       "      <td>694</td>\n",
       "      <td>11</td>\n",
       "      <td>1</td>\n",
       "      <td>0</td>\n",
       "      <td>...</td>\n",
       "      <td>0</td>\n",
       "      <td>0</td>\n",
       "      <td>0</td>\n",
       "      <td>0</td>\n",
       "      <td>0</td>\n",
       "      <td>1</td>\n",
       "      <td>0</td>\n",
       "      <td>0</td>\n",
       "      <td>0</td>\n",
       "      <td>0</td>\n",
       "    </tr>\n",
       "    <tr>\n",
       "      <th>4</th>\n",
       "      <td>3000</td>\n",
       "      <td>80000</td>\n",
       "      <td>15</td>\n",
       "      <td>38</td>\n",
       "      <td>17.94</td>\n",
       "      <td>695</td>\n",
       "      <td>699</td>\n",
       "      <td>2</td>\n",
       "      <td>1</td>\n",
       "      <td>0</td>\n",
       "      <td>...</td>\n",
       "      <td>0</td>\n",
       "      <td>0</td>\n",
       "      <td>0</td>\n",
       "      <td>0</td>\n",
       "      <td>0</td>\n",
       "      <td>1</td>\n",
       "      <td>0</td>\n",
       "      <td>0</td>\n",
       "      <td>0</td>\n",
       "      <td>0</td>\n",
       "    </tr>\n",
       "  </tbody>\n",
       "</table>\n",
       "<p>5 rows × 27 columns</p>\n",
       "</div>"
      ],
      "text/plain": [
       "   loan_amnt  annual_inc  open_acc  total_acc    dti  fico_range_low  \\\n",
       "0       5000       24000         3          9  27.65             735   \n",
       "1       2500       30000         3          4   1.00             740   \n",
       "2       2400       12252         2         10   8.72             735   \n",
       "3      10000       49200        10         37  20.00             690   \n",
       "4       3000       80000        15         38  17.94             695   \n",
       "\n",
       "   fico_range_high  emp_code  is_renter  MORTGAGE   ...     home_improvement  \\\n",
       "0              739        11          1         0   ...                    0   \n",
       "1              744         1          1         0   ...                    0   \n",
       "2              739        11          1         0   ...                    0   \n",
       "3              694        11          1         0   ...                    0   \n",
       "4              699         2          1         0   ...                    0   \n",
       "\n",
       "   house  major_purchase  medical  moving  other  renewable_energy  \\\n",
       "0      0               0        0       0      0                 0   \n",
       "1      0               0        0       0      0                 0   \n",
       "2      0               0        0       0      0                 0   \n",
       "3      0               0        0       0      1                 0   \n",
       "4      0               0        0       0      1                 0   \n",
       "\n",
       "   small_business  vacation  wedding  \n",
       "0               0         0        0  \n",
       "1               0         0        0  \n",
       "2               1         0        0  \n",
       "3               0         0        0  \n",
       "4               0         0        0  \n",
       "\n",
       "[5 rows x 27 columns]"
      ]
     },
     "execution_count": 20,
     "metadata": {},
     "output_type": "execute_result"
    }
   ],
   "source": [
    "loan_data.head()"
   ]
  },
  {
   "cell_type": "code",
   "execution_count": 21,
   "metadata": {
    "collapsed": false
   },
   "outputs": [
    {
     "data": {
      "text/plain": [
       "array(['loan_amnt', 'annual_inc', 'open_acc', 'total_acc', 'dti',\n",
       "       'fico_range_low', 'fico_range_high', 'emp_code', 'is_renter',\n",
       "       'MORTGAGE', 'OTHER', 'OWN', 'RENT', 'car', 'credit_card',\n",
       "       'debt_consolidation', 'educational', 'home_improvement', 'house',\n",
       "       'major_purchase', 'medical', 'moving', 'other', 'renewable_energy',\n",
       "       'small_business', 'vacation', 'wedding'], dtype=object)"
      ]
     },
     "execution_count": 21,
     "metadata": {},
     "output_type": "execute_result"
    }
   ],
   "source": [
    "loan_data.columns[:].ravel()"
   ]
  },
  {
   "cell_type": "code",
   "execution_count": 22,
   "metadata": {
    "collapsed": true
   },
   "outputs": [],
   "source": [
    "X_data=loan_data"
   ]
  },
  {
   "cell_type": "code",
   "execution_count": 23,
   "metadata": {
    "collapsed": false
   },
   "outputs": [
    {
     "data": {
      "text/html": [
       "<div>\n",
       "<table border=\"1\" class=\"dataframe\">\n",
       "  <thead>\n",
       "    <tr style=\"text-align: right;\">\n",
       "      <th></th>\n",
       "      <th>loan_amnt</th>\n",
       "      <th>annual_inc</th>\n",
       "      <th>open_acc</th>\n",
       "      <th>total_acc</th>\n",
       "      <th>dti</th>\n",
       "      <th>fico_range_low</th>\n",
       "      <th>fico_range_high</th>\n",
       "      <th>emp_code</th>\n",
       "      <th>is_renter</th>\n",
       "      <th>MORTGAGE</th>\n",
       "      <th>...</th>\n",
       "      <th>home_improvement</th>\n",
       "      <th>house</th>\n",
       "      <th>major_purchase</th>\n",
       "      <th>medical</th>\n",
       "      <th>moving</th>\n",
       "      <th>other</th>\n",
       "      <th>renewable_energy</th>\n",
       "      <th>small_business</th>\n",
       "      <th>vacation</th>\n",
       "      <th>wedding</th>\n",
       "    </tr>\n",
       "  </thead>\n",
       "  <tbody>\n",
       "    <tr>\n",
       "      <th>0</th>\n",
       "      <td>5000</td>\n",
       "      <td>24000</td>\n",
       "      <td>3</td>\n",
       "      <td>9</td>\n",
       "      <td>27.65</td>\n",
       "      <td>735</td>\n",
       "      <td>739</td>\n",
       "      <td>11</td>\n",
       "      <td>1</td>\n",
       "      <td>0</td>\n",
       "      <td>...</td>\n",
       "      <td>0</td>\n",
       "      <td>0</td>\n",
       "      <td>0</td>\n",
       "      <td>0</td>\n",
       "      <td>0</td>\n",
       "      <td>0</td>\n",
       "      <td>0</td>\n",
       "      <td>0</td>\n",
       "      <td>0</td>\n",
       "      <td>0</td>\n",
       "    </tr>\n",
       "    <tr>\n",
       "      <th>1</th>\n",
       "      <td>2500</td>\n",
       "      <td>30000</td>\n",
       "      <td>3</td>\n",
       "      <td>4</td>\n",
       "      <td>1.00</td>\n",
       "      <td>740</td>\n",
       "      <td>744</td>\n",
       "      <td>1</td>\n",
       "      <td>1</td>\n",
       "      <td>0</td>\n",
       "      <td>...</td>\n",
       "      <td>0</td>\n",
       "      <td>0</td>\n",
       "      <td>0</td>\n",
       "      <td>0</td>\n",
       "      <td>0</td>\n",
       "      <td>0</td>\n",
       "      <td>0</td>\n",
       "      <td>0</td>\n",
       "      <td>0</td>\n",
       "      <td>0</td>\n",
       "    </tr>\n",
       "    <tr>\n",
       "      <th>2</th>\n",
       "      <td>2400</td>\n",
       "      <td>12252</td>\n",
       "      <td>2</td>\n",
       "      <td>10</td>\n",
       "      <td>8.72</td>\n",
       "      <td>735</td>\n",
       "      <td>739</td>\n",
       "      <td>11</td>\n",
       "      <td>1</td>\n",
       "      <td>0</td>\n",
       "      <td>...</td>\n",
       "      <td>0</td>\n",
       "      <td>0</td>\n",
       "      <td>0</td>\n",
       "      <td>0</td>\n",
       "      <td>0</td>\n",
       "      <td>0</td>\n",
       "      <td>0</td>\n",
       "      <td>1</td>\n",
       "      <td>0</td>\n",
       "      <td>0</td>\n",
       "    </tr>\n",
       "    <tr>\n",
       "      <th>3</th>\n",
       "      <td>10000</td>\n",
       "      <td>49200</td>\n",
       "      <td>10</td>\n",
       "      <td>37</td>\n",
       "      <td>20.00</td>\n",
       "      <td>690</td>\n",
       "      <td>694</td>\n",
       "      <td>11</td>\n",
       "      <td>1</td>\n",
       "      <td>0</td>\n",
       "      <td>...</td>\n",
       "      <td>0</td>\n",
       "      <td>0</td>\n",
       "      <td>0</td>\n",
       "      <td>0</td>\n",
       "      <td>0</td>\n",
       "      <td>1</td>\n",
       "      <td>0</td>\n",
       "      <td>0</td>\n",
       "      <td>0</td>\n",
       "      <td>0</td>\n",
       "    </tr>\n",
       "    <tr>\n",
       "      <th>4</th>\n",
       "      <td>3000</td>\n",
       "      <td>80000</td>\n",
       "      <td>15</td>\n",
       "      <td>38</td>\n",
       "      <td>17.94</td>\n",
       "      <td>695</td>\n",
       "      <td>699</td>\n",
       "      <td>2</td>\n",
       "      <td>1</td>\n",
       "      <td>0</td>\n",
       "      <td>...</td>\n",
       "      <td>0</td>\n",
       "      <td>0</td>\n",
       "      <td>0</td>\n",
       "      <td>0</td>\n",
       "      <td>0</td>\n",
       "      <td>1</td>\n",
       "      <td>0</td>\n",
       "      <td>0</td>\n",
       "      <td>0</td>\n",
       "      <td>0</td>\n",
       "    </tr>\n",
       "  </tbody>\n",
       "</table>\n",
       "<p>5 rows × 27 columns</p>\n",
       "</div>"
      ],
      "text/plain": [
       "   loan_amnt  annual_inc  open_acc  total_acc    dti  fico_range_low  \\\n",
       "0       5000       24000         3          9  27.65             735   \n",
       "1       2500       30000         3          4   1.00             740   \n",
       "2       2400       12252         2         10   8.72             735   \n",
       "3      10000       49200        10         37  20.00             690   \n",
       "4       3000       80000        15         38  17.94             695   \n",
       "\n",
       "   fico_range_high  emp_code  is_renter  MORTGAGE   ...     home_improvement  \\\n",
       "0              739        11          1         0   ...                    0   \n",
       "1              744         1          1         0   ...                    0   \n",
       "2              739        11          1         0   ...                    0   \n",
       "3              694        11          1         0   ...                    0   \n",
       "4              699         2          1         0   ...                    0   \n",
       "\n",
       "   house  major_purchase  medical  moving  other  renewable_energy  \\\n",
       "0      0               0        0       0      0                 0   \n",
       "1      0               0        0       0      0                 0   \n",
       "2      0               0        0       0      0                 0   \n",
       "3      0               0        0       0      1                 0   \n",
       "4      0               0        0       0      1                 0   \n",
       "\n",
       "   small_business  vacation  wedding  \n",
       "0               0         0        0  \n",
       "1               0         0        0  \n",
       "2               1         0        0  \n",
       "3               0         0        0  \n",
       "4               0         0        0  \n",
       "\n",
       "[5 rows x 27 columns]"
      ]
     },
     "execution_count": 23,
     "metadata": {},
     "output_type": "execute_result"
    }
   ],
   "source": [
    "X_data.head()"
   ]
  },
  {
   "cell_type": "markdown",
   "metadata": {},
   "source": [
    "### Build pipeline with StandardScaler, PCA and Random Forest to predict whether loan would be in good standing or not based on features"
   ]
  },
  {
   "cell_type": "code",
   "execution_count": 25,
   "metadata": {
    "collapsed": true
   },
   "outputs": [],
   "source": [
    "pipe3 = make_pipeline(StandardScaler(), # scale the features \n",
    "                    PCA(), # pca\n",
    "                    RandomForestClassifier()) "
   ]
  },
  {
   "cell_type": "code",
   "execution_count": 26,
   "metadata": {
    "collapsed": false
   },
   "outputs": [],
   "source": [
    "params3 = dict(pca__n_components=[5, 8, 10,  15], # \n",
    "                  randomforestclassifier__n_estimators=[10, 20, 30], # estimator params to grid search\n",
    "                  randomforestclassifier__class_weight=['auto']    \n",
    "              )"
   ]
  },
  {
   "cell_type": "code",
   "execution_count": 27,
   "metadata": {
    "collapsed": false
   },
   "outputs": [
    {
     "name": "stdout",
     "output_type": "stream",
     "text": [
      "{'randomforestclassifier__class_weight': ['auto'], 'pca__n_components': [5, 8, 10, 15], 'randomforestclassifier__n_estimators': [10, 20, 30]}\n",
      "Best Params: {'randomforestclassifier__class_weight': 'auto', 'pca__n_components': 8, 'randomforestclassifier__n_estimators': 30}\n",
      "Best Score: 0.873438909944\n",
      "\n"
     ]
    }
   ],
   "source": [
    "gs = GridSearchCV(pipe3, params3, cv=StratifiedKFold(y_data, n_folds=3), n_jobs=-1)\n",
    "gs.fit(X_data, y_data)\n",
    "best = (gs.best_estimator_, gs.best_score_)\n",
    "print params3\n",
    "print \"Best Params:\", gs.best_params_\n",
    "print \"Best Score:\", gs.best_score_\n",
    "print"
   ]
  },
  {
   "cell_type": "code",
   "execution_count": 66,
   "metadata": {
    "collapsed": false
   },
   "outputs": [],
   "source": [
    "pca_component=PCA(n_components=8)\n",
    "rfclassifier=RandomForestClassifier(n_estimators=30, class_weight='auto') # estimator\n",
    "pca_rfc=make_pipeline(pca_component, rfclassifier)"
   ]
  },
  {
   "cell_type": "code",
   "execution_count": 67,
   "metadata": {
    "collapsed": false
   },
   "outputs": [
    {
     "data": {
      "text/plain": [
       "0.87531103880123595"
      ]
     },
     "execution_count": 67,
     "metadata": {},
     "output_type": "execute_result"
    }
   ],
   "source": [
    "X_train, X_test, y_train, y_test = train_test_split(X_data, y_data, test_size=0.33, random_state=42) \n",
    "pca_rfc.fit(X_train, y_train)\n",
    "y_pred = pca_rfc.predict(X_test)\n",
    "pca_rfc.score(X_test,y_test)"
   ]
  },
  {
   "cell_type": "code",
   "execution_count": 68,
   "metadata": {
    "collapsed": false
   },
   "outputs": [
    {
     "data": {
      "text/plain": [
       "array([[   15,  9071],\n",
       "       [   49, 64007]])"
      ]
     },
     "execution_count": 68,
     "metadata": {},
     "output_type": "execute_result"
    }
   ],
   "source": [
    "confusion_matrix(y_test, y_pred)"
   ]
  },
  {
   "cell_type": "code",
   "execution_count": 69,
   "metadata": {
    "collapsed": false
   },
   "outputs": [
    {
     "data": {
      "text/plain": [
       "Counter({0: 9086, 1: 64056})"
      ]
     },
     "execution_count": 69,
     "metadata": {},
     "output_type": "execute_result"
    }
   ],
   "source": [
    "Counter(y_test)"
   ]
  },
  {
   "cell_type": "markdown",
   "metadata": {},
   "source": [
    "### The model is not very good at correctly identify the \"bad loan\" event.  It is important to find a model to optimize on recall as the number of bad loans is very small compared to overall sample"
   ]
  },
  {
   "cell_type": "markdown",
   "metadata": {},
   "source": [
    "### Let's try to build pipeline using StandardScaler, PCA and Logistic Regression"
   ]
  },
  {
   "cell_type": "code",
   "execution_count": 28,
   "metadata": {
    "collapsed": false
   },
   "outputs": [],
   "source": [
    "pipe4 = make_pipeline(StandardScaler(), # scale the features \n",
    "                         PCA(), # pca\n",
    "                         linear_model.LogisticRegression(class_weight='auto')) # estimator\n",
    "params4 = dict(pca__n_components=[5, 8, 10, 15,20], # you probably have less features than these\n",
    "              logisticregression__C=[0.01, 0.1, 1.0, 10.0], # estimator params to grid search\n",
    "              logisticregression__penalty=['l1', 'l2'] # estimator params to grid search\n",
    "                  )"
   ]
  },
  {
   "cell_type": "code",
   "execution_count": 29,
   "metadata": {
    "collapsed": false
   },
   "outputs": [
    {
     "name": "stdout",
     "output_type": "stream",
     "text": [
      "{'pca__n_components': [5, 8, 10, 15, 20], 'logisticregression__penalty': ['l1', 'l2'], 'logisticregression__C': [0.01, 0.1, 1.0, 10.0]}\n",
      "Best Params: {'pca__n_components': 20, 'logisticregression__penalty': 'l2', 'logisticregression__C': 1.0}\n",
      "Best Score: 0.560255369067\n",
      "\n"
     ]
    }
   ],
   "source": [
    "gs = GridSearchCV(pipe4, params4, cv=StratifiedKFold(y_data, n_folds=3), n_jobs=-1)\n",
    "gs.fit(X_data, y_data)\n",
    "best = (gs.best_estimator_, gs.best_score_)\n",
    "print params4\n",
    "print \"Best Params:\", gs.best_params_\n",
    "print \"Best Score:\", gs.best_score_\n",
    "print"
   ]
  },
  {
   "cell_type": "markdown",
   "metadata": {},
   "source": [
    "Compare the performance of having l1 or l2 norm penalty in logistic regression"
   ]
  },
  {
   "cell_type": "code",
   "execution_count": 75,
   "metadata": {
    "collapsed": false
   },
   "outputs": [],
   "source": [
    "logis_classifier=linear_model.LogisticRegression(class_weight='auto', C=1.0, penalty='l1')\n",
    "#logis_classifier=linear_model.LogisticRegression( C=0.1, penalty='l2', class_weight={1: 9})"
   ]
  },
  {
   "cell_type": "code",
   "execution_count": 76,
   "metadata": {
    "collapsed": false
   },
   "outputs": [
    {
     "data": {
      "text/plain": [
       "0.57135435180881022"
      ]
     },
     "execution_count": 76,
     "metadata": {},
     "output_type": "execute_result"
    }
   ],
   "source": [
    "X_train, X_test, y_train, y_test = train_test_split(X_data, y_data, test_size=0.33, random_state=45) \n",
    "logis_classifier.fit(X_train, y_train)\n",
    "y_pred = logis_classifier.predict(X_test)\n",
    "logis_classifier.score(X_test,y_test)"
   ]
  },
  {
   "cell_type": "code",
   "execution_count": 77,
   "metadata": {
    "collapsed": false
   },
   "outputs": [
    {
     "data": {
      "text/plain": [
       "array([[ 5666,  3346],\n",
       "       [28006, 36124]])"
      ]
     },
     "execution_count": 77,
     "metadata": {},
     "output_type": "execute_result"
    }
   ],
   "source": [
    "confusion_matrix(y_test, y_pred)"
   ]
  },
  {
   "cell_type": "code",
   "execution_count": 60,
   "metadata": {
    "collapsed": true
   },
   "outputs": [],
   "source": [
    "logis_classifier2=linear_model.LogisticRegression(C=0.1, penalty='l2', class_weight='auto')"
   ]
  },
  {
   "cell_type": "code",
   "execution_count": 61,
   "metadata": {
    "collapsed": false
   },
   "outputs": [
    {
     "data": {
      "text/plain": [
       "0.58164939432883977"
      ]
     },
     "execution_count": 61,
     "metadata": {},
     "output_type": "execute_result"
    }
   ],
   "source": [
    "X_train, X_test, y_train, y_test = train_test_split(X_data, y_data, test_size=0.33, random_state=45) \n",
    "logis_classifier2.fit(X_train, y_train)\n",
    "y_pred = logis_classifier2.predict(X_test)\n",
    "logis_classifier2.score(X_test,y_test)"
   ]
  },
  {
   "cell_type": "code",
   "execution_count": 62,
   "metadata": {
    "collapsed": false
   },
   "outputs": [
    {
     "data": {
      "text/plain": [
       "array([[ 5444,  3568],\n",
       "       [27031, 37099]])"
      ]
     },
     "execution_count": 62,
     "metadata": {},
     "output_type": "execute_result"
    }
   ],
   "source": [
    "confusion_matrix(y_test, y_pred)"
   ]
  },
  {
   "cell_type": "markdown",
   "metadata": {},
   "source": [
    "### Make pipieline  with Standard scaler, PCA and  SVM to predict bad loans event"
   ]
  },
  {
   "cell_type": "code",
   "execution_count": 30,
   "metadata": {
    "collapsed": false
   },
   "outputs": [],
   "source": [
    "pipe12 = make_pipeline(StandardScaler(),\n",
    "                    PCA(n_components=10),\n",
    "                    RBFSampler(gamma=.2, random_state=1), \n",
    "                    LinearSVC(class_weight='auto')) \n"
   ]
  },
  {
   "cell_type": "code",
   "execution_count": 31,
   "metadata": {
    "collapsed": false
   },
   "outputs": [
    {
     "data": {
      "text/plain": [
       "0.56452806352643925"
      ]
     },
     "execution_count": 31,
     "metadata": {},
     "output_type": "execute_result"
    }
   ],
   "source": [
    "X_train, X_test, y_train, y_test = train_test_split(X_data, y_data, test_size=0.5, random_state=47) \n",
    "pipe12.fit(X_train, y_train)\n",
    "y_pred = pipe12.predict(X_test)\n",
    "pipe12.score(X_test,y_test)"
   ]
  },
  {
   "cell_type": "code",
   "execution_count": 32,
   "metadata": {
    "collapsed": false
   },
   "outputs": [
    {
     "data": {
      "text/plain": [
       "array([[ 8296,  5499],\n",
       "       [42760, 54265]])"
      ]
     },
     "execution_count": 32,
     "metadata": {},
     "output_type": "execute_result"
    }
   ],
   "source": [
    "confusion_matrix(y_test, y_pred)"
   ]
  },
  {
   "cell_type": "markdown",
   "metadata": {},
   "source": [
    "### Build pipeline with StandardScaler, PCA and ExtraTreesClassifier for prediction"
   ]
  },
  {
   "cell_type": "code",
   "execution_count": 33,
   "metadata": {
    "collapsed": false
   },
   "outputs": [],
   "source": [
    "from sklearn.ensemble import ExtraTreesClassifier\n",
    "pipe13 = make_pipeline(StandardScaler(), # scale the features \n",
    "                    PCA(n_components=8), # pca\n",
    "                    ExtraTreesClassifier(class_weight='auto', n_estimators=30)) # estimator"
   ]
  },
  {
   "cell_type": "code",
   "execution_count": 35,
   "metadata": {
    "collapsed": false
   },
   "outputs": [
    {
     "data": {
      "text/plain": [
       "0.86976177585273418"
      ]
     },
     "execution_count": 35,
     "metadata": {},
     "output_type": "execute_result"
    }
   ],
   "source": [
    "X_train, X_test, y_train, y_test = train_test_split(X_data, y_data, test_size=0.5, random_state=47) \n",
    "pipe13.fit(X_train, y_train)\n",
    "y_pred = pipe13.predict(X_test)\n",
    "pipe13.score(X_test,y_test)"
   ]
  },
  {
   "cell_type": "code",
   "execution_count": 36,
   "metadata": {
    "collapsed": false
   },
   "outputs": [
    {
     "data": {
      "text/plain": [
       "array([[  152, 13643],\n",
       "       [  790, 96235]])"
      ]
     },
     "execution_count": 36,
     "metadata": {},
     "output_type": "execute_result"
    }
   ],
   "source": [
    "confusion_matrix(y_test, y_pred)"
   ]
  },
  {
   "cell_type": "code",
   "execution_count": 37,
   "metadata": {
    "collapsed": false
   },
   "outputs": [
    {
     "data": {
      "text/plain": [
       "0.011141244594297443"
      ]
     },
     "execution_count": 37,
     "metadata": {},
     "output_type": "execute_result"
    }
   ],
   "source": [
    "152./13643"
   ]
  },
  {
   "cell_type": "markdown",
   "metadata": {},
   "source": [
    "### Creating plots comparing loans in good standing and loans in bad standing"
   ]
  },
  {
   "cell_type": "code",
   "execution_count": 11,
   "metadata": {
    "collapsed": false
   },
   "outputs": [
    {
     "data": {
      "text/plain": [
       "2700420250.0"
      ]
     },
     "execution_count": 11,
     "metadata": {},
     "output_type": "execute_result"
    }
   ],
   "source": [
    "\n",
    "loandata12to13['loan_amnt'].sum()"
   ]
  },
  {
   "cell_type": "code",
   "execution_count": 12,
   "metadata": {
    "collapsed": false
   },
   "outputs": [
    {
     "data": {
      "text/plain": [
       "3503840175.0"
      ]
     },
     "execution_count": 12,
     "metadata": {},
     "output_type": "execute_result"
    }
   ],
   "source": [
    "loandata13to14['loan_amnt'].sum()"
   ]
  },
  {
   "cell_type": "code",
   "execution_count": 13,
   "metadata": {
    "collapsed": true
   },
   "outputs": [],
   "source": [
    "loandata12to13_bad=loandata12to13[loandata12to13['loan_status_code']==0]"
   ]
  },
  {
   "cell_type": "code",
   "execution_count": 14,
   "metadata": {
    "collapsed": false
   },
   "outputs": [
    {
     "data": {
      "text/plain": [
       "334683050.0"
      ]
     },
     "execution_count": 14,
     "metadata": {},
     "output_type": "execute_result"
    }
   ],
   "source": [
    "loandata12to13_bad['loan_amnt'].sum()"
   ]
  },
  {
   "cell_type": "code",
   "execution_count": 15,
   "metadata": {
    "collapsed": false
   },
   "outputs": [],
   "source": [
    "loandata13to14_bad=loandata13to14[loandata13to14['loan_status_code']==0]"
   ]
  },
  {
   "cell_type": "code",
   "execution_count": 16,
   "metadata": {
    "collapsed": false
   },
   "outputs": [
    {
     "data": {
      "text/plain": [
       "200700075.0"
      ]
     },
     "execution_count": 16,
     "metadata": {},
     "output_type": "execute_result"
    }
   ],
   "source": [
    "loandata13to14_bad['loan_amnt'].sum()"
   ]
  },
  {
   "cell_type": "code",
   "execution_count": 20,
   "metadata": {
    "collapsed": true
   },
   "outputs": [],
   "source": [
    "loan_samples=pd.concat([loandata12to13,loandata13to14], ignore_index=True)"
   ]
  },
  {
   "cell_type": "code",
   "execution_count": 21,
   "metadata": {
    "collapsed": false
   },
   "outputs": [
    {
     "data": {
      "text/html": [
       "<div>\n",
       "<table border=\"1\" class=\"dataframe\">\n",
       "  <thead>\n",
       "    <tr style=\"text-align: right;\">\n",
       "      <th></th>\n",
       "      <th>id</th>\n",
       "      <th>member_id</th>\n",
       "      <th>loan_amnt</th>\n",
       "      <th>funded_amnt</th>\n",
       "      <th>funded_amnt_inv</th>\n",
       "      <th>term</th>\n",
       "      <th>int_rate</th>\n",
       "      <th>installment</th>\n",
       "      <th>grade</th>\n",
       "      <th>sub_grade</th>\n",
       "      <th>...</th>\n",
       "      <th>il_util</th>\n",
       "      <th>open_rv_12m</th>\n",
       "      <th>open_rv_24m</th>\n",
       "      <th>max_bal_bc</th>\n",
       "      <th>all_util</th>\n",
       "      <th>total_credit_rv</th>\n",
       "      <th>inq_fi</th>\n",
       "      <th>total_fi_tl</th>\n",
       "      <th>inq_last_12m</th>\n",
       "      <th>loan_status_code</th>\n",
       "    </tr>\n",
       "  </thead>\n",
       "  <tbody>\n",
       "    <tr>\n",
       "      <th>0</th>\n",
       "      <td>10159611</td>\n",
       "      <td>12011228</td>\n",
       "      <td>10000</td>\n",
       "      <td>10000</td>\n",
       "      <td>10000</td>\n",
       "      <td>36 months</td>\n",
       "      <td>9.67%</td>\n",
       "      <td>321.13</td>\n",
       "      <td>B</td>\n",
       "      <td>B1</td>\n",
       "      <td>...</td>\n",
       "      <td>NaN</td>\n",
       "      <td>NaN</td>\n",
       "      <td>NaN</td>\n",
       "      <td>NaN</td>\n",
       "      <td>NaN</td>\n",
       "      <td>22300</td>\n",
       "      <td>NaN</td>\n",
       "      <td>NaN</td>\n",
       "      <td>NaN</td>\n",
       "      <td>1</td>\n",
       "    </tr>\n",
       "    <tr>\n",
       "      <th>1</th>\n",
       "      <td>10148122</td>\n",
       "      <td>11999781</td>\n",
       "      <td>12000</td>\n",
       "      <td>12000</td>\n",
       "      <td>12000</td>\n",
       "      <td>36 months</td>\n",
       "      <td>7.62%</td>\n",
       "      <td>373.94</td>\n",
       "      <td>A</td>\n",
       "      <td>A3</td>\n",
       "      <td>...</td>\n",
       "      <td>NaN</td>\n",
       "      <td>NaN</td>\n",
       "      <td>NaN</td>\n",
       "      <td>NaN</td>\n",
       "      <td>NaN</td>\n",
       "      <td>23800</td>\n",
       "      <td>NaN</td>\n",
       "      <td>NaN</td>\n",
       "      <td>NaN</td>\n",
       "      <td>1</td>\n",
       "    </tr>\n",
       "    <tr>\n",
       "      <th>2</th>\n",
       "      <td>10127816</td>\n",
       "      <td>11979581</td>\n",
       "      <td>24000</td>\n",
       "      <td>24000</td>\n",
       "      <td>24000</td>\n",
       "      <td>36 months</td>\n",
       "      <td>13.53%</td>\n",
       "      <td>814.80</td>\n",
       "      <td>B</td>\n",
       "      <td>B5</td>\n",
       "      <td>...</td>\n",
       "      <td>NaN</td>\n",
       "      <td>NaN</td>\n",
       "      <td>NaN</td>\n",
       "      <td>NaN</td>\n",
       "      <td>NaN</td>\n",
       "      <td>28200</td>\n",
       "      <td>NaN</td>\n",
       "      <td>NaN</td>\n",
       "      <td>NaN</td>\n",
       "      <td>1</td>\n",
       "    </tr>\n",
       "    <tr>\n",
       "      <th>3</th>\n",
       "      <td>10179520</td>\n",
       "      <td>12031088</td>\n",
       "      <td>3000</td>\n",
       "      <td>3000</td>\n",
       "      <td>3000</td>\n",
       "      <td>36 months</td>\n",
       "      <td>12.85%</td>\n",
       "      <td>100.87</td>\n",
       "      <td>B</td>\n",
       "      <td>B4</td>\n",
       "      <td>...</td>\n",
       "      <td>NaN</td>\n",
       "      <td>NaN</td>\n",
       "      <td>NaN</td>\n",
       "      <td>NaN</td>\n",
       "      <td>NaN</td>\n",
       "      <td>5300</td>\n",
       "      <td>NaN</td>\n",
       "      <td>NaN</td>\n",
       "      <td>NaN</td>\n",
       "      <td>1</td>\n",
       "    </tr>\n",
       "    <tr>\n",
       "      <th>4</th>\n",
       "      <td>10119590</td>\n",
       "      <td>11971211</td>\n",
       "      <td>11500</td>\n",
       "      <td>11500</td>\n",
       "      <td>11500</td>\n",
       "      <td>60 months</td>\n",
       "      <td>22.90%</td>\n",
       "      <td>323.54</td>\n",
       "      <td>E</td>\n",
       "      <td>E4</td>\n",
       "      <td>...</td>\n",
       "      <td>NaN</td>\n",
       "      <td>NaN</td>\n",
       "      <td>NaN</td>\n",
       "      <td>NaN</td>\n",
       "      <td>NaN</td>\n",
       "      <td>14100</td>\n",
       "      <td>NaN</td>\n",
       "      <td>NaN</td>\n",
       "      <td>NaN</td>\n",
       "      <td>1</td>\n",
       "    </tr>\n",
       "  </tbody>\n",
       "</table>\n",
       "<p>5 rows × 79 columns</p>\n",
       "</div>"
      ],
      "text/plain": [
       "         id  member_id  loan_amnt  funded_amnt  funded_amnt_inv        term  \\\n",
       "0  10159611   12011228      10000        10000            10000   36 months   \n",
       "1  10148122   11999781      12000        12000            12000   36 months   \n",
       "2  10127816   11979581      24000        24000            24000   36 months   \n",
       "3  10179520   12031088       3000         3000             3000   36 months   \n",
       "4  10119590   11971211      11500        11500            11500   60 months   \n",
       "\n",
       "  int_rate  installment grade sub_grade       ...        il_util open_rv_12m  \\\n",
       "0    9.67%       321.13     B        B1       ...            NaN         NaN   \n",
       "1    7.62%       373.94     A        A3       ...            NaN         NaN   \n",
       "2   13.53%       814.80     B        B5       ...            NaN         NaN   \n",
       "3   12.85%       100.87     B        B4       ...            NaN         NaN   \n",
       "4   22.90%       323.54     E        E4       ...            NaN         NaN   \n",
       "\n",
       "  open_rv_24m  max_bal_bc all_util total_credit_rv inq_fi total_fi_tl  \\\n",
       "0         NaN         NaN      NaN           22300    NaN         NaN   \n",
       "1         NaN         NaN      NaN           23800    NaN         NaN   \n",
       "2         NaN         NaN      NaN           28200    NaN         NaN   \n",
       "3         NaN         NaN      NaN            5300    NaN         NaN   \n",
       "4         NaN         NaN      NaN           14100    NaN         NaN   \n",
       "\n",
       "  inq_last_12m loan_status_code  \n",
       "0          NaN                1  \n",
       "1          NaN                1  \n",
       "2          NaN                1  \n",
       "3          NaN                1  \n",
       "4          NaN                1  \n",
       "\n",
       "[5 rows x 79 columns]"
      ]
     },
     "execution_count": 21,
     "metadata": {},
     "output_type": "execute_result"
    }
   ],
   "source": [
    "loan_samples.head()"
   ]
  },
  {
   "cell_type": "code",
   "execution_count": 23,
   "metadata": {
    "collapsed": true
   },
   "outputs": [],
   "source": [
    "loansubset=loan_samples[['loan_amnt', 'funded_amnt', 'emp_length', 'home_ownership', 'annual_inc', 'purpose','earliest_cr_line',\\\n",
    "                          'open_acc', 'total_acc','dti','fico_range_low','fico_range_high','loan_status']]"
   ]
  },
  {
   "cell_type": "code",
   "execution_count": 30,
   "metadata": {
    "collapsed": false
   },
   "outputs": [
    {
     "name": "stderr",
     "output_type": "stream",
     "text": [
      "/anaconda/lib/python2.7/site-packages/ipykernel/__main__.py:20: SettingWithCopyWarning: \n",
      "A value is trying to be set on a copy of a slice from a DataFrame.\n",
      "Try using .loc[row_indexer,col_indexer] = value instead\n",
      "\n",
      "See the caveats in the documentation: http://pandas.pydata.org/pandas-docs/stable/indexing.html#indexing-view-versus-copy\n"
     ]
    }
   ],
   "source": [
    "\n",
    "loansubset['loan_status_code'] = loansubset['loan_status'].apply(lambda x: loan_status_apply(x))"
   ]
  },
  {
   "cell_type": "code",
   "execution_count": 31,
   "metadata": {
    "collapsed": false
   },
   "outputs": [
    {
     "data": {
      "text/plain": [
       "(423756, 15)"
      ]
     },
     "execution_count": 31,
     "metadata": {},
     "output_type": "execute_result"
    }
   ],
   "source": [
    "loansubset.shape"
   ]
  },
  {
   "cell_type": "code",
   "execution_count": 32,
   "metadata": {
    "collapsed": false
   },
   "outputs": [
    {
     "data": {
      "text/html": [
       "<div>\n",
       "<table border=\"1\" class=\"dataframe\">\n",
       "  <thead>\n",
       "    <tr style=\"text-align: right;\">\n",
       "      <th></th>\n",
       "      <th>loan_amnt</th>\n",
       "      <th>funded_amnt</th>\n",
       "      <th>emp_length</th>\n",
       "      <th>home_ownership</th>\n",
       "      <th>annual_inc</th>\n",
       "      <th>purpose</th>\n",
       "      <th>earliest_cr_line</th>\n",
       "      <th>open_acc</th>\n",
       "      <th>total_acc</th>\n",
       "      <th>dti</th>\n",
       "      <th>fico_range_low</th>\n",
       "      <th>fico_range_high</th>\n",
       "      <th>loan_status</th>\n",
       "      <th>emp_code</th>\n",
       "      <th>loan_status_code</th>\n",
       "    </tr>\n",
       "  </thead>\n",
       "  <tbody>\n",
       "    <tr>\n",
       "      <th>0</th>\n",
       "      <td>10000</td>\n",
       "      <td>10000</td>\n",
       "      <td>7 years</td>\n",
       "      <td>MORTGAGE</td>\n",
       "      <td>102000</td>\n",
       "      <td>debt_consolidation</td>\n",
       "      <td>Oct-1989</td>\n",
       "      <td>9</td>\n",
       "      <td>22</td>\n",
       "      <td>15.55</td>\n",
       "      <td>670</td>\n",
       "      <td>674</td>\n",
       "      <td>Current</td>\n",
       "      <td>8</td>\n",
       "      <td>1</td>\n",
       "    </tr>\n",
       "    <tr>\n",
       "      <th>1</th>\n",
       "      <td>12000</td>\n",
       "      <td>12000</td>\n",
       "      <td>3 years</td>\n",
       "      <td>MORTGAGE</td>\n",
       "      <td>96500</td>\n",
       "      <td>debt_consolidation</td>\n",
       "      <td>Sep-2003</td>\n",
       "      <td>17</td>\n",
       "      <td>30</td>\n",
       "      <td>12.61</td>\n",
       "      <td>705</td>\n",
       "      <td>709</td>\n",
       "      <td>Current</td>\n",
       "      <td>4</td>\n",
       "      <td>1</td>\n",
       "    </tr>\n",
       "    <tr>\n",
       "      <th>2</th>\n",
       "      <td>24000</td>\n",
       "      <td>24000</td>\n",
       "      <td>10+ years</td>\n",
       "      <td>MORTGAGE</td>\n",
       "      <td>100000</td>\n",
       "      <td>credit_card</td>\n",
       "      <td>Jan-1989</td>\n",
       "      <td>14</td>\n",
       "      <td>39</td>\n",
       "      <td>22.18</td>\n",
       "      <td>660</td>\n",
       "      <td>664</td>\n",
       "      <td>Current</td>\n",
       "      <td>11</td>\n",
       "      <td>1</td>\n",
       "    </tr>\n",
       "    <tr>\n",
       "      <th>3</th>\n",
       "      <td>3000</td>\n",
       "      <td>3000</td>\n",
       "      <td>10+ years</td>\n",
       "      <td>RENT</td>\n",
       "      <td>25000</td>\n",
       "      <td>debt_consolidation</td>\n",
       "      <td>May-1991</td>\n",
       "      <td>5</td>\n",
       "      <td>26</td>\n",
       "      <td>24.68</td>\n",
       "      <td>660</td>\n",
       "      <td>664</td>\n",
       "      <td>Fully Paid</td>\n",
       "      <td>11</td>\n",
       "      <td>1</td>\n",
       "    </tr>\n",
       "    <tr>\n",
       "      <th>4</th>\n",
       "      <td>11500</td>\n",
       "      <td>11500</td>\n",
       "      <td>4 years</td>\n",
       "      <td>RENT</td>\n",
       "      <td>32760</td>\n",
       "      <td>debt_consolidation</td>\n",
       "      <td>Mar-1999</td>\n",
       "      <td>12</td>\n",
       "      <td>17</td>\n",
       "      <td>27.06</td>\n",
       "      <td>675</td>\n",
       "      <td>679</td>\n",
       "      <td>Current</td>\n",
       "      <td>5</td>\n",
       "      <td>1</td>\n",
       "    </tr>\n",
       "  </tbody>\n",
       "</table>\n",
       "</div>"
      ],
      "text/plain": [
       "   loan_amnt  funded_amnt emp_length home_ownership  annual_inc  \\\n",
       "0      10000        10000    7 years       MORTGAGE      102000   \n",
       "1      12000        12000    3 years       MORTGAGE       96500   \n",
       "2      24000        24000  10+ years       MORTGAGE      100000   \n",
       "3       3000         3000  10+ years           RENT       25000   \n",
       "4      11500        11500    4 years           RENT       32760   \n",
       "\n",
       "              purpose earliest_cr_line  open_acc  total_acc    dti  \\\n",
       "0  debt_consolidation         Oct-1989         9         22  15.55   \n",
       "1  debt_consolidation         Sep-2003        17         30  12.61   \n",
       "2         credit_card         Jan-1989        14         39  22.18   \n",
       "3  debt_consolidation         May-1991         5         26  24.68   \n",
       "4  debt_consolidation         Mar-1999        12         17  27.06   \n",
       "\n",
       "   fico_range_low  fico_range_high loan_status  emp_code  loan_status_code  \n",
       "0             670              674     Current         8                 1  \n",
       "1             705              709     Current         4                 1  \n",
       "2             660              664     Current        11                 1  \n",
       "3             660              664  Fully Paid        11                 1  \n",
       "4             675              679     Current         5                 1  "
      ]
     },
     "execution_count": 32,
     "metadata": {},
     "output_type": "execute_result"
    }
   ],
   "source": [
    "loansubset.head()"
   ]
  },
  {
   "cell_type": "code",
   "execution_count": 33,
   "metadata": {
    "collapsed": true
   },
   "outputs": [],
   "source": [
    "loan_goodstanding=loansubset[loansubset['loan_status_code']==1]"
   ]
  },
  {
   "cell_type": "code",
   "execution_count": 34,
   "metadata": {
    "collapsed": false
   },
   "outputs": [
    {
     "data": {
      "text/html": [
       "<div>\n",
       "<table border=\"1\" class=\"dataframe\">\n",
       "  <thead>\n",
       "    <tr style=\"text-align: right;\">\n",
       "      <th></th>\n",
       "      <th>index</th>\n",
       "      <th>loan_amnt</th>\n",
       "      <th>funded_amnt</th>\n",
       "      <th>emp_length</th>\n",
       "      <th>home_ownership</th>\n",
       "      <th>annual_inc</th>\n",
       "      <th>purpose</th>\n",
       "      <th>earliest_cr_line</th>\n",
       "      <th>open_acc</th>\n",
       "      <th>total_acc</th>\n",
       "      <th>dti</th>\n",
       "      <th>fico_range_low</th>\n",
       "      <th>fico_range_high</th>\n",
       "      <th>loan_status</th>\n",
       "      <th>emp_code</th>\n",
       "      <th>loan_status_code</th>\n",
       "    </tr>\n",
       "  </thead>\n",
       "  <tbody>\n",
       "    <tr>\n",
       "      <th>0</th>\n",
       "      <td>0</td>\n",
       "      <td>10000</td>\n",
       "      <td>10000</td>\n",
       "      <td>7 years</td>\n",
       "      <td>MORTGAGE</td>\n",
       "      <td>102000</td>\n",
       "      <td>debt_consolidation</td>\n",
       "      <td>Oct-1989</td>\n",
       "      <td>9</td>\n",
       "      <td>22</td>\n",
       "      <td>15.55</td>\n",
       "      <td>670</td>\n",
       "      <td>674</td>\n",
       "      <td>Current</td>\n",
       "      <td>8</td>\n",
       "      <td>1</td>\n",
       "    </tr>\n",
       "    <tr>\n",
       "      <th>1</th>\n",
       "      <td>1</td>\n",
       "      <td>12000</td>\n",
       "      <td>12000</td>\n",
       "      <td>3 years</td>\n",
       "      <td>MORTGAGE</td>\n",
       "      <td>96500</td>\n",
       "      <td>debt_consolidation</td>\n",
       "      <td>Sep-2003</td>\n",
       "      <td>17</td>\n",
       "      <td>30</td>\n",
       "      <td>12.61</td>\n",
       "      <td>705</td>\n",
       "      <td>709</td>\n",
       "      <td>Current</td>\n",
       "      <td>4</td>\n",
       "      <td>1</td>\n",
       "    </tr>\n",
       "    <tr>\n",
       "      <th>2</th>\n",
       "      <td>2</td>\n",
       "      <td>24000</td>\n",
       "      <td>24000</td>\n",
       "      <td>10+ years</td>\n",
       "      <td>MORTGAGE</td>\n",
       "      <td>100000</td>\n",
       "      <td>credit_card</td>\n",
       "      <td>Jan-1989</td>\n",
       "      <td>14</td>\n",
       "      <td>39</td>\n",
       "      <td>22.18</td>\n",
       "      <td>660</td>\n",
       "      <td>664</td>\n",
       "      <td>Current</td>\n",
       "      <td>11</td>\n",
       "      <td>1</td>\n",
       "    </tr>\n",
       "    <tr>\n",
       "      <th>3</th>\n",
       "      <td>3</td>\n",
       "      <td>3000</td>\n",
       "      <td>3000</td>\n",
       "      <td>10+ years</td>\n",
       "      <td>RENT</td>\n",
       "      <td>25000</td>\n",
       "      <td>debt_consolidation</td>\n",
       "      <td>May-1991</td>\n",
       "      <td>5</td>\n",
       "      <td>26</td>\n",
       "      <td>24.68</td>\n",
       "      <td>660</td>\n",
       "      <td>664</td>\n",
       "      <td>Fully Paid</td>\n",
       "      <td>11</td>\n",
       "      <td>1</td>\n",
       "    </tr>\n",
       "    <tr>\n",
       "      <th>4</th>\n",
       "      <td>4</td>\n",
       "      <td>11500</td>\n",
       "      <td>11500</td>\n",
       "      <td>4 years</td>\n",
       "      <td>RENT</td>\n",
       "      <td>32760</td>\n",
       "      <td>debt_consolidation</td>\n",
       "      <td>Mar-1999</td>\n",
       "      <td>12</td>\n",
       "      <td>17</td>\n",
       "      <td>27.06</td>\n",
       "      <td>675</td>\n",
       "      <td>679</td>\n",
       "      <td>Current</td>\n",
       "      <td>5</td>\n",
       "      <td>1</td>\n",
       "    </tr>\n",
       "    <tr>\n",
       "      <th>5</th>\n",
       "      <td>5</td>\n",
       "      <td>11100</td>\n",
       "      <td>11100</td>\n",
       "      <td>10+ years</td>\n",
       "      <td>MORTGAGE</td>\n",
       "      <td>90000</td>\n",
       "      <td>other</td>\n",
       "      <td>Jun-2001</td>\n",
       "      <td>9</td>\n",
       "      <td>12</td>\n",
       "      <td>3.73</td>\n",
       "      <td>690</td>\n",
       "      <td>694</td>\n",
       "      <td>Current</td>\n",
       "      <td>11</td>\n",
       "      <td>1</td>\n",
       "    </tr>\n",
       "    <tr>\n",
       "      <th>6</th>\n",
       "      <td>6</td>\n",
       "      <td>9750</td>\n",
       "      <td>9750</td>\n",
       "      <td>1 year</td>\n",
       "      <td>RENT</td>\n",
       "      <td>26000</td>\n",
       "      <td>debt_consolidation</td>\n",
       "      <td>Jan-2007</td>\n",
       "      <td>12</td>\n",
       "      <td>28</td>\n",
       "      <td>25.12</td>\n",
       "      <td>670</td>\n",
       "      <td>674</td>\n",
       "      <td>Current</td>\n",
       "      <td>2</td>\n",
       "      <td>1</td>\n",
       "    </tr>\n",
       "    <tr>\n",
       "      <th>7</th>\n",
       "      <td>7</td>\n",
       "      <td>7550</td>\n",
       "      <td>7550</td>\n",
       "      <td>3 years</td>\n",
       "      <td>RENT</td>\n",
       "      <td>28000</td>\n",
       "      <td>debt_consolidation</td>\n",
       "      <td>Oct-2010</td>\n",
       "      <td>4</td>\n",
       "      <td>5</td>\n",
       "      <td>8.40</td>\n",
       "      <td>660</td>\n",
       "      <td>664</td>\n",
       "      <td>Current</td>\n",
       "      <td>4</td>\n",
       "      <td>1</td>\n",
       "    </tr>\n",
       "    <tr>\n",
       "      <th>8</th>\n",
       "      <td>8</td>\n",
       "      <td>4800</td>\n",
       "      <td>4800</td>\n",
       "      <td>2 years</td>\n",
       "      <td>MORTGAGE</td>\n",
       "      <td>39600</td>\n",
       "      <td>home_improvement</td>\n",
       "      <td>Aug-1995</td>\n",
       "      <td>3</td>\n",
       "      <td>8</td>\n",
       "      <td>2.49</td>\n",
       "      <td>755</td>\n",
       "      <td>759</td>\n",
       "      <td>Fully Paid</td>\n",
       "      <td>3</td>\n",
       "      <td>1</td>\n",
       "    </tr>\n",
       "    <tr>\n",
       "      <th>9</th>\n",
       "      <td>9</td>\n",
       "      <td>15000</td>\n",
       "      <td>15000</td>\n",
       "      <td>2 years</td>\n",
       "      <td>MORTGAGE</td>\n",
       "      <td>63000</td>\n",
       "      <td>debt_consolidation</td>\n",
       "      <td>Mar-1998</td>\n",
       "      <td>8</td>\n",
       "      <td>29</td>\n",
       "      <td>16.51</td>\n",
       "      <td>670</td>\n",
       "      <td>674</td>\n",
       "      <td>Current</td>\n",
       "      <td>3</td>\n",
       "      <td>1</td>\n",
       "    </tr>\n",
       "    <tr>\n",
       "      <th>10</th>\n",
       "      <td>10</td>\n",
       "      <td>27050</td>\n",
       "      <td>27050</td>\n",
       "      <td>10+ years</td>\n",
       "      <td>OWN</td>\n",
       "      <td>55000</td>\n",
       "      <td>debt_consolidation</td>\n",
       "      <td>Oct-1986</td>\n",
       "      <td>14</td>\n",
       "      <td>27</td>\n",
       "      <td>22.87</td>\n",
       "      <td>730</td>\n",
       "      <td>734</td>\n",
       "      <td>Current</td>\n",
       "      <td>11</td>\n",
       "      <td>1</td>\n",
       "    </tr>\n",
       "    <tr>\n",
       "      <th>11</th>\n",
       "      <td>11</td>\n",
       "      <td>12000</td>\n",
       "      <td>12000</td>\n",
       "      <td>4 years</td>\n",
       "      <td>RENT</td>\n",
       "      <td>60000</td>\n",
       "      <td>debt_consolidation</td>\n",
       "      <td>Dec-2009</td>\n",
       "      <td>15</td>\n",
       "      <td>18</td>\n",
       "      <td>4.62</td>\n",
       "      <td>720</td>\n",
       "      <td>724</td>\n",
       "      <td>Current</td>\n",
       "      <td>5</td>\n",
       "      <td>1</td>\n",
       "    </tr>\n",
       "    <tr>\n",
       "      <th>12</th>\n",
       "      <td>12</td>\n",
       "      <td>8000</td>\n",
       "      <td>8000</td>\n",
       "      <td>2 years</td>\n",
       "      <td>MORTGAGE</td>\n",
       "      <td>33000</td>\n",
       "      <td>debt_consolidation</td>\n",
       "      <td>Jul-1991</td>\n",
       "      <td>9</td>\n",
       "      <td>16</td>\n",
       "      <td>15.75</td>\n",
       "      <td>685</td>\n",
       "      <td>689</td>\n",
       "      <td>Late (31-120 days)</td>\n",
       "      <td>3</td>\n",
       "      <td>1</td>\n",
       "    </tr>\n",
       "    <tr>\n",
       "      <th>13</th>\n",
       "      <td>13</td>\n",
       "      <td>12000</td>\n",
       "      <td>12000</td>\n",
       "      <td>10+ years</td>\n",
       "      <td>MORTGAGE</td>\n",
       "      <td>105000</td>\n",
       "      <td>debt_consolidation</td>\n",
       "      <td>Mar-1994</td>\n",
       "      <td>12</td>\n",
       "      <td>22</td>\n",
       "      <td>14.05</td>\n",
       "      <td>760</td>\n",
       "      <td>764</td>\n",
       "      <td>Current</td>\n",
       "      <td>11</td>\n",
       "      <td>1</td>\n",
       "    </tr>\n",
       "    <tr>\n",
       "      <th>14</th>\n",
       "      <td>14</td>\n",
       "      <td>15000</td>\n",
       "      <td>15000</td>\n",
       "      <td>10+ years</td>\n",
       "      <td>RENT</td>\n",
       "      <td>98000</td>\n",
       "      <td>debt_consolidation</td>\n",
       "      <td>Jul-1992</td>\n",
       "      <td>16</td>\n",
       "      <td>16</td>\n",
       "      <td>6.15</td>\n",
       "      <td>715</td>\n",
       "      <td>719</td>\n",
       "      <td>Fully Paid</td>\n",
       "      <td>11</td>\n",
       "      <td>1</td>\n",
       "    </tr>\n",
       "    <tr>\n",
       "      <th>15</th>\n",
       "      <td>15</td>\n",
       "      <td>20800</td>\n",
       "      <td>20800</td>\n",
       "      <td>10+ years</td>\n",
       "      <td>RENT</td>\n",
       "      <td>81500</td>\n",
       "      <td>debt_consolidation</td>\n",
       "      <td>Jun-1998</td>\n",
       "      <td>29</td>\n",
       "      <td>41</td>\n",
       "      <td>16.73</td>\n",
       "      <td>685</td>\n",
       "      <td>689</td>\n",
       "      <td>Fully Paid</td>\n",
       "      <td>11</td>\n",
       "      <td>1</td>\n",
       "    </tr>\n",
       "    <tr>\n",
       "      <th>16</th>\n",
       "      <td>16</td>\n",
       "      <td>28000</td>\n",
       "      <td>28000</td>\n",
       "      <td>5 years</td>\n",
       "      <td>MORTGAGE</td>\n",
       "      <td>325000</td>\n",
       "      <td>debt_consolidation</td>\n",
       "      <td>Nov-1994</td>\n",
       "      <td>15</td>\n",
       "      <td>31</td>\n",
       "      <td>18.55</td>\n",
       "      <td>745</td>\n",
       "      <td>749</td>\n",
       "      <td>Fully Paid</td>\n",
       "      <td>6</td>\n",
       "      <td>1</td>\n",
       "    </tr>\n",
       "    <tr>\n",
       "      <th>17</th>\n",
       "      <td>17</td>\n",
       "      <td>27600</td>\n",
       "      <td>27600</td>\n",
       "      <td>6 years</td>\n",
       "      <td>MORTGAGE</td>\n",
       "      <td>73000</td>\n",
       "      <td>debt_consolidation</td>\n",
       "      <td>Jun-1989</td>\n",
       "      <td>10</td>\n",
       "      <td>24</td>\n",
       "      <td>23.13</td>\n",
       "      <td>665</td>\n",
       "      <td>669</td>\n",
       "      <td>Current</td>\n",
       "      <td>7</td>\n",
       "      <td>1</td>\n",
       "    </tr>\n",
       "    <tr>\n",
       "      <th>18</th>\n",
       "      <td>18</td>\n",
       "      <td>14000</td>\n",
       "      <td>14000</td>\n",
       "      <td>4 years</td>\n",
       "      <td>RENT</td>\n",
       "      <td>88000</td>\n",
       "      <td>debt_consolidation</td>\n",
       "      <td>Jun-1988</td>\n",
       "      <td>6</td>\n",
       "      <td>14</td>\n",
       "      <td>10.02</td>\n",
       "      <td>670</td>\n",
       "      <td>674</td>\n",
       "      <td>Current</td>\n",
       "      <td>5</td>\n",
       "      <td>1</td>\n",
       "    </tr>\n",
       "    <tr>\n",
       "      <th>19</th>\n",
       "      <td>19</td>\n",
       "      <td>12000</td>\n",
       "      <td>12000</td>\n",
       "      <td>10+ years</td>\n",
       "      <td>RENT</td>\n",
       "      <td>40000</td>\n",
       "      <td>debt_consolidation</td>\n",
       "      <td>Oct-1998</td>\n",
       "      <td>7</td>\n",
       "      <td>32</td>\n",
       "      <td>16.94</td>\n",
       "      <td>660</td>\n",
       "      <td>664</td>\n",
       "      <td>Fully Paid</td>\n",
       "      <td>11</td>\n",
       "      <td>1</td>\n",
       "    </tr>\n",
       "    <tr>\n",
       "      <th>20</th>\n",
       "      <td>20</td>\n",
       "      <td>12000</td>\n",
       "      <td>12000</td>\n",
       "      <td>10+ years</td>\n",
       "      <td>MORTGAGE</td>\n",
       "      <td>130000</td>\n",
       "      <td>debt_consolidation</td>\n",
       "      <td>Nov-1997</td>\n",
       "      <td>9</td>\n",
       "      <td>19</td>\n",
       "      <td>13.03</td>\n",
       "      <td>715</td>\n",
       "      <td>719</td>\n",
       "      <td>Current</td>\n",
       "      <td>11</td>\n",
       "      <td>1</td>\n",
       "    </tr>\n",
       "    <tr>\n",
       "      <th>21</th>\n",
       "      <td>21</td>\n",
       "      <td>31825</td>\n",
       "      <td>31825</td>\n",
       "      <td>10+ years</td>\n",
       "      <td>MORTGAGE</td>\n",
       "      <td>70000</td>\n",
       "      <td>debt_consolidation</td>\n",
       "      <td>Aug-1984</td>\n",
       "      <td>14</td>\n",
       "      <td>39</td>\n",
       "      <td>26.49</td>\n",
       "      <td>705</td>\n",
       "      <td>709</td>\n",
       "      <td>Current</td>\n",
       "      <td>11</td>\n",
       "      <td>1</td>\n",
       "    </tr>\n",
       "    <tr>\n",
       "      <th>22</th>\n",
       "      <td>22</td>\n",
       "      <td>4000</td>\n",
       "      <td>4000</td>\n",
       "      <td>10+ years</td>\n",
       "      <td>MORTGAGE</td>\n",
       "      <td>84000</td>\n",
       "      <td>other</td>\n",
       "      <td>Feb-1994</td>\n",
       "      <td>11</td>\n",
       "      <td>26</td>\n",
       "      <td>19.80</td>\n",
       "      <td>705</td>\n",
       "      <td>709</td>\n",
       "      <td>Fully Paid</td>\n",
       "      <td>11</td>\n",
       "      <td>1</td>\n",
       "    </tr>\n",
       "    <tr>\n",
       "      <th>23</th>\n",
       "      <td>23</td>\n",
       "      <td>30000</td>\n",
       "      <td>30000</td>\n",
       "      <td>10+ years</td>\n",
       "      <td>MORTGAGE</td>\n",
       "      <td>120000</td>\n",
       "      <td>debt_consolidation</td>\n",
       "      <td>Aug-1989</td>\n",
       "      <td>16</td>\n",
       "      <td>43</td>\n",
       "      <td>12.54</td>\n",
       "      <td>680</td>\n",
       "      <td>684</td>\n",
       "      <td>Current</td>\n",
       "      <td>11</td>\n",
       "      <td>1</td>\n",
       "    </tr>\n",
       "    <tr>\n",
       "      <th>24</th>\n",
       "      <td>24</td>\n",
       "      <td>6000</td>\n",
       "      <td>6000</td>\n",
       "      <td>10+ years</td>\n",
       "      <td>MORTGAGE</td>\n",
       "      <td>67000</td>\n",
       "      <td>credit_card</td>\n",
       "      <td>Dec-1998</td>\n",
       "      <td>7</td>\n",
       "      <td>32</td>\n",
       "      <td>17.61</td>\n",
       "      <td>690</td>\n",
       "      <td>694</td>\n",
       "      <td>Fully Paid</td>\n",
       "      <td>11</td>\n",
       "      <td>1</td>\n",
       "    </tr>\n",
       "    <tr>\n",
       "      <th>25</th>\n",
       "      <td>25</td>\n",
       "      <td>10000</td>\n",
       "      <td>10000</td>\n",
       "      <td>10+ years</td>\n",
       "      <td>MORTGAGE</td>\n",
       "      <td>41000</td>\n",
       "      <td>debt_consolidation</td>\n",
       "      <td>Jul-2001</td>\n",
       "      <td>10</td>\n",
       "      <td>16</td>\n",
       "      <td>25.79</td>\n",
       "      <td>695</td>\n",
       "      <td>699</td>\n",
       "      <td>Current</td>\n",
       "      <td>11</td>\n",
       "      <td>1</td>\n",
       "    </tr>\n",
       "    <tr>\n",
       "      <th>26</th>\n",
       "      <td>26</td>\n",
       "      <td>6000</td>\n",
       "      <td>6000</td>\n",
       "      <td>1 year</td>\n",
       "      <td>MORTGAGE</td>\n",
       "      <td>70000</td>\n",
       "      <td>credit_card</td>\n",
       "      <td>Dec-1985</td>\n",
       "      <td>20</td>\n",
       "      <td>37</td>\n",
       "      <td>25.14</td>\n",
       "      <td>700</td>\n",
       "      <td>704</td>\n",
       "      <td>Fully Paid</td>\n",
       "      <td>2</td>\n",
       "      <td>1</td>\n",
       "    </tr>\n",
       "    <tr>\n",
       "      <th>27</th>\n",
       "      <td>27</td>\n",
       "      <td>22875</td>\n",
       "      <td>22875</td>\n",
       "      <td>5 years</td>\n",
       "      <td>MORTGAGE</td>\n",
       "      <td>50000</td>\n",
       "      <td>home_improvement</td>\n",
       "      <td>Nov-1998</td>\n",
       "      <td>10</td>\n",
       "      <td>41</td>\n",
       "      <td>10.83</td>\n",
       "      <td>705</td>\n",
       "      <td>709</td>\n",
       "      <td>Fully Paid</td>\n",
       "      <td>6</td>\n",
       "      <td>1</td>\n",
       "    </tr>\n",
       "    <tr>\n",
       "      <th>28</th>\n",
       "      <td>28</td>\n",
       "      <td>6000</td>\n",
       "      <td>6000</td>\n",
       "      <td>8 years</td>\n",
       "      <td>RENT</td>\n",
       "      <td>115000</td>\n",
       "      <td>debt_consolidation</td>\n",
       "      <td>Sep-2000</td>\n",
       "      <td>12</td>\n",
       "      <td>26</td>\n",
       "      <td>7.37</td>\n",
       "      <td>760</td>\n",
       "      <td>764</td>\n",
       "      <td>Fully Paid</td>\n",
       "      <td>9</td>\n",
       "      <td>1</td>\n",
       "    </tr>\n",
       "    <tr>\n",
       "      <th>29</th>\n",
       "      <td>29</td>\n",
       "      <td>30000</td>\n",
       "      <td>30000</td>\n",
       "      <td>10+ years</td>\n",
       "      <td>OWN</td>\n",
       "      <td>72524</td>\n",
       "      <td>credit_card</td>\n",
       "      <td>Jan-1985</td>\n",
       "      <td>8</td>\n",
       "      <td>17</td>\n",
       "      <td>16.96</td>\n",
       "      <td>705</td>\n",
       "      <td>709</td>\n",
       "      <td>Current</td>\n",
       "      <td>11</td>\n",
       "      <td>1</td>\n",
       "    </tr>\n",
       "    <tr>\n",
       "      <th>...</th>\n",
       "      <td>...</td>\n",
       "      <td>...</td>\n",
       "      <td>...</td>\n",
       "      <td>...</td>\n",
       "      <td>...</td>\n",
       "      <td>...</td>\n",
       "      <td>...</td>\n",
       "      <td>...</td>\n",
       "      <td>...</td>\n",
       "      <td>...</td>\n",
       "      <td>...</td>\n",
       "      <td>...</td>\n",
       "      <td>...</td>\n",
       "      <td>...</td>\n",
       "      <td>...</td>\n",
       "      <td>...</td>\n",
       "    </tr>\n",
       "    <tr>\n",
       "      <th>387740</th>\n",
       "      <td>423720</td>\n",
       "      <td>9000</td>\n",
       "      <td>9000</td>\n",
       "      <td>10+ years</td>\n",
       "      <td>OWN</td>\n",
       "      <td>140000</td>\n",
       "      <td>home_improvement</td>\n",
       "      <td>Sep-1976</td>\n",
       "      <td>13</td>\n",
       "      <td>41</td>\n",
       "      <td>6.13</td>\n",
       "      <td>660</td>\n",
       "      <td>664</td>\n",
       "      <td>Late (31-120 days)</td>\n",
       "      <td>11</td>\n",
       "      <td>1</td>\n",
       "    </tr>\n",
       "    <tr>\n",
       "      <th>387741</th>\n",
       "      <td>423722</td>\n",
       "      <td>2000</td>\n",
       "      <td>2000</td>\n",
       "      <td>n/a</td>\n",
       "      <td>RENT</td>\n",
       "      <td>7500</td>\n",
       "      <td>credit_card</td>\n",
       "      <td>Sep-2006</td>\n",
       "      <td>6</td>\n",
       "      <td>7</td>\n",
       "      <td>29.92</td>\n",
       "      <td>685</td>\n",
       "      <td>689</td>\n",
       "      <td>Current</td>\n",
       "      <td>NaN</td>\n",
       "      <td>1</td>\n",
       "    </tr>\n",
       "    <tr>\n",
       "      <th>387742</th>\n",
       "      <td>423724</td>\n",
       "      <td>35000</td>\n",
       "      <td>35000</td>\n",
       "      <td>9 years</td>\n",
       "      <td>MORTGAGE</td>\n",
       "      <td>284481</td>\n",
       "      <td>small_business</td>\n",
       "      <td>Sep-2000</td>\n",
       "      <td>19</td>\n",
       "      <td>35</td>\n",
       "      <td>14.59</td>\n",
       "      <td>690</td>\n",
       "      <td>694</td>\n",
       "      <td>Fully Paid</td>\n",
       "      <td>10</td>\n",
       "      <td>1</td>\n",
       "    </tr>\n",
       "    <tr>\n",
       "      <th>387743</th>\n",
       "      <td>423726</td>\n",
       "      <td>12800</td>\n",
       "      <td>12800</td>\n",
       "      <td>10+ years</td>\n",
       "      <td>MORTGAGE</td>\n",
       "      <td>113926</td>\n",
       "      <td>other</td>\n",
       "      <td>Jul-1985</td>\n",
       "      <td>12</td>\n",
       "      <td>37</td>\n",
       "      <td>21.55</td>\n",
       "      <td>685</td>\n",
       "      <td>689</td>\n",
       "      <td>Fully Paid</td>\n",
       "      <td>11</td>\n",
       "      <td>1</td>\n",
       "    </tr>\n",
       "    <tr>\n",
       "      <th>387744</th>\n",
       "      <td>423727</td>\n",
       "      <td>7000</td>\n",
       "      <td>7000</td>\n",
       "      <td>10+ years</td>\n",
       "      <td>RENT</td>\n",
       "      <td>100000</td>\n",
       "      <td>other</td>\n",
       "      <td>Jun-1993</td>\n",
       "      <td>4</td>\n",
       "      <td>24</td>\n",
       "      <td>5.48</td>\n",
       "      <td>675</td>\n",
       "      <td>679</td>\n",
       "      <td>Current</td>\n",
       "      <td>11</td>\n",
       "      <td>1</td>\n",
       "    </tr>\n",
       "    <tr>\n",
       "      <th>387745</th>\n",
       "      <td>423728</td>\n",
       "      <td>18000</td>\n",
       "      <td>18000</td>\n",
       "      <td>4 years</td>\n",
       "      <td>RENT</td>\n",
       "      <td>48000</td>\n",
       "      <td>debt_consolidation</td>\n",
       "      <td>Apr-1985</td>\n",
       "      <td>9</td>\n",
       "      <td>18</td>\n",
       "      <td>31.05</td>\n",
       "      <td>700</td>\n",
       "      <td>704</td>\n",
       "      <td>Fully Paid</td>\n",
       "      <td>5</td>\n",
       "      <td>1</td>\n",
       "    </tr>\n",
       "    <tr>\n",
       "      <th>387746</th>\n",
       "      <td>423729</td>\n",
       "      <td>24000</td>\n",
       "      <td>24000</td>\n",
       "      <td>10+ years</td>\n",
       "      <td>MORTGAGE</td>\n",
       "      <td>210000</td>\n",
       "      <td>debt_consolidation</td>\n",
       "      <td>Sep-1997</td>\n",
       "      <td>23</td>\n",
       "      <td>39</td>\n",
       "      <td>12.98</td>\n",
       "      <td>660</td>\n",
       "      <td>664</td>\n",
       "      <td>Current</td>\n",
       "      <td>11</td>\n",
       "      <td>1</td>\n",
       "    </tr>\n",
       "    <tr>\n",
       "      <th>387747</th>\n",
       "      <td>423730</td>\n",
       "      <td>14400</td>\n",
       "      <td>14400</td>\n",
       "      <td>1 year</td>\n",
       "      <td>RENT</td>\n",
       "      <td>120000</td>\n",
       "      <td>debt_consolidation</td>\n",
       "      <td>Aug-1997</td>\n",
       "      <td>13</td>\n",
       "      <td>23</td>\n",
       "      <td>15.93</td>\n",
       "      <td>685</td>\n",
       "      <td>689</td>\n",
       "      <td>Fully Paid</td>\n",
       "      <td>2</td>\n",
       "      <td>1</td>\n",
       "    </tr>\n",
       "    <tr>\n",
       "      <th>387748</th>\n",
       "      <td>423731</td>\n",
       "      <td>14000</td>\n",
       "      <td>14000</td>\n",
       "      <td>n/a</td>\n",
       "      <td>MORTGAGE</td>\n",
       "      <td>68000</td>\n",
       "      <td>debt_consolidation</td>\n",
       "      <td>Feb-1993</td>\n",
       "      <td>19</td>\n",
       "      <td>47</td>\n",
       "      <td>25.36</td>\n",
       "      <td>675</td>\n",
       "      <td>679</td>\n",
       "      <td>Fully Paid</td>\n",
       "      <td>NaN</td>\n",
       "      <td>1</td>\n",
       "    </tr>\n",
       "    <tr>\n",
       "      <th>387749</th>\n",
       "      <td>423732</td>\n",
       "      <td>24000</td>\n",
       "      <td>24000</td>\n",
       "      <td>10+ years</td>\n",
       "      <td>RENT</td>\n",
       "      <td>72787</td>\n",
       "      <td>credit_card</td>\n",
       "      <td>Aug-2003</td>\n",
       "      <td>13</td>\n",
       "      <td>27</td>\n",
       "      <td>19.33</td>\n",
       "      <td>685</td>\n",
       "      <td>689</td>\n",
       "      <td>Current</td>\n",
       "      <td>11</td>\n",
       "      <td>1</td>\n",
       "    </tr>\n",
       "    <tr>\n",
       "      <th>387750</th>\n",
       "      <td>423733</td>\n",
       "      <td>15250</td>\n",
       "      <td>15250</td>\n",
       "      <td>10+ years</td>\n",
       "      <td>MORTGAGE</td>\n",
       "      <td>65000</td>\n",
       "      <td>debt_consolidation</td>\n",
       "      <td>Jul-1998</td>\n",
       "      <td>8</td>\n",
       "      <td>26</td>\n",
       "      <td>11.26</td>\n",
       "      <td>660</td>\n",
       "      <td>664</td>\n",
       "      <td>Fully Paid</td>\n",
       "      <td>11</td>\n",
       "      <td>1</td>\n",
       "    </tr>\n",
       "    <tr>\n",
       "      <th>387751</th>\n",
       "      <td>423734</td>\n",
       "      <td>32000</td>\n",
       "      <td>32000</td>\n",
       "      <td>n/a</td>\n",
       "      <td>MORTGAGE</td>\n",
       "      <td>128000</td>\n",
       "      <td>major_purchase</td>\n",
       "      <td>Jul-1993</td>\n",
       "      <td>11</td>\n",
       "      <td>35</td>\n",
       "      <td>5.65</td>\n",
       "      <td>780</td>\n",
       "      <td>784</td>\n",
       "      <td>Fully Paid</td>\n",
       "      <td>NaN</td>\n",
       "      <td>1</td>\n",
       "    </tr>\n",
       "    <tr>\n",
       "      <th>387752</th>\n",
       "      <td>423735</td>\n",
       "      <td>12000</td>\n",
       "      <td>12000</td>\n",
       "      <td>3 years</td>\n",
       "      <td>MORTGAGE</td>\n",
       "      <td>65000</td>\n",
       "      <td>debt_consolidation</td>\n",
       "      <td>Mar-1994</td>\n",
       "      <td>11</td>\n",
       "      <td>25</td>\n",
       "      <td>7.39</td>\n",
       "      <td>695</td>\n",
       "      <td>699</td>\n",
       "      <td>Current</td>\n",
       "      <td>4</td>\n",
       "      <td>1</td>\n",
       "    </tr>\n",
       "    <tr>\n",
       "      <th>387753</th>\n",
       "      <td>423736</td>\n",
       "      <td>10000</td>\n",
       "      <td>10000</td>\n",
       "      <td>2 years</td>\n",
       "      <td>RENT</td>\n",
       "      <td>60000</td>\n",
       "      <td>debt_consolidation</td>\n",
       "      <td>Oct-2002</td>\n",
       "      <td>14</td>\n",
       "      <td>27</td>\n",
       "      <td>26.72</td>\n",
       "      <td>670</td>\n",
       "      <td>674</td>\n",
       "      <td>Current</td>\n",
       "      <td>3</td>\n",
       "      <td>1</td>\n",
       "    </tr>\n",
       "    <tr>\n",
       "      <th>387754</th>\n",
       "      <td>423737</td>\n",
       "      <td>12000</td>\n",
       "      <td>12000</td>\n",
       "      <td>3 years</td>\n",
       "      <td>MORTGAGE</td>\n",
       "      <td>133000</td>\n",
       "      <td>credit_card</td>\n",
       "      <td>Dec-1993</td>\n",
       "      <td>9</td>\n",
       "      <td>23</td>\n",
       "      <td>10.12</td>\n",
       "      <td>665</td>\n",
       "      <td>669</td>\n",
       "      <td>Current</td>\n",
       "      <td>4</td>\n",
       "      <td>1</td>\n",
       "    </tr>\n",
       "    <tr>\n",
       "      <th>387755</th>\n",
       "      <td>423738</td>\n",
       "      <td>5000</td>\n",
       "      <td>5000</td>\n",
       "      <td>6 years</td>\n",
       "      <td>RENT</td>\n",
       "      <td>70000</td>\n",
       "      <td>other</td>\n",
       "      <td>Dec-2001</td>\n",
       "      <td>10</td>\n",
       "      <td>22</td>\n",
       "      <td>20.74</td>\n",
       "      <td>670</td>\n",
       "      <td>674</td>\n",
       "      <td>Current</td>\n",
       "      <td>7</td>\n",
       "      <td>1</td>\n",
       "    </tr>\n",
       "    <tr>\n",
       "      <th>387756</th>\n",
       "      <td>423739</td>\n",
       "      <td>10000</td>\n",
       "      <td>10000</td>\n",
       "      <td>9 years</td>\n",
       "      <td>MORTGAGE</td>\n",
       "      <td>99975</td>\n",
       "      <td>debt_consolidation</td>\n",
       "      <td>Oct-1986</td>\n",
       "      <td>9</td>\n",
       "      <td>35</td>\n",
       "      <td>11.55</td>\n",
       "      <td>705</td>\n",
       "      <td>709</td>\n",
       "      <td>Current</td>\n",
       "      <td>10</td>\n",
       "      <td>1</td>\n",
       "    </tr>\n",
       "    <tr>\n",
       "      <th>387757</th>\n",
       "      <td>423740</td>\n",
       "      <td>13250</td>\n",
       "      <td>13250</td>\n",
       "      <td>10+ years</td>\n",
       "      <td>RENT</td>\n",
       "      <td>57231</td>\n",
       "      <td>other</td>\n",
       "      <td>Apr-2000</td>\n",
       "      <td>11</td>\n",
       "      <td>22</td>\n",
       "      <td>12.04</td>\n",
       "      <td>665</td>\n",
       "      <td>669</td>\n",
       "      <td>Current</td>\n",
       "      <td>11</td>\n",
       "      <td>1</td>\n",
       "    </tr>\n",
       "    <tr>\n",
       "      <th>387758</th>\n",
       "      <td>423741</td>\n",
       "      <td>6000</td>\n",
       "      <td>6000</td>\n",
       "      <td>n/a</td>\n",
       "      <td>MORTGAGE</td>\n",
       "      <td>25000</td>\n",
       "      <td>credit_card</td>\n",
       "      <td>May-1990</td>\n",
       "      <td>16</td>\n",
       "      <td>48</td>\n",
       "      <td>12.05</td>\n",
       "      <td>660</td>\n",
       "      <td>664</td>\n",
       "      <td>Fully Paid</td>\n",
       "      <td>NaN</td>\n",
       "      <td>1</td>\n",
       "    </tr>\n",
       "    <tr>\n",
       "      <th>387759</th>\n",
       "      <td>423742</td>\n",
       "      <td>12000</td>\n",
       "      <td>12000</td>\n",
       "      <td>10+ years</td>\n",
       "      <td>MORTGAGE</td>\n",
       "      <td>90000</td>\n",
       "      <td>credit_card</td>\n",
       "      <td>Jun-2001</td>\n",
       "      <td>13</td>\n",
       "      <td>42</td>\n",
       "      <td>15.04</td>\n",
       "      <td>685</td>\n",
       "      <td>689</td>\n",
       "      <td>Current</td>\n",
       "      <td>11</td>\n",
       "      <td>1</td>\n",
       "    </tr>\n",
       "    <tr>\n",
       "      <th>387760</th>\n",
       "      <td>423743</td>\n",
       "      <td>10000</td>\n",
       "      <td>10000</td>\n",
       "      <td>8 years</td>\n",
       "      <td>RENT</td>\n",
       "      <td>45000</td>\n",
       "      <td>credit_card</td>\n",
       "      <td>Aug-1983</td>\n",
       "      <td>10</td>\n",
       "      <td>16</td>\n",
       "      <td>9.28</td>\n",
       "      <td>665</td>\n",
       "      <td>669</td>\n",
       "      <td>Current</td>\n",
       "      <td>9</td>\n",
       "      <td>1</td>\n",
       "    </tr>\n",
       "    <tr>\n",
       "      <th>387761</th>\n",
       "      <td>423744</td>\n",
       "      <td>6000</td>\n",
       "      <td>6000</td>\n",
       "      <td>7 years</td>\n",
       "      <td>RENT</td>\n",
       "      <td>27000</td>\n",
       "      <td>credit_card</td>\n",
       "      <td>Nov-1993</td>\n",
       "      <td>8</td>\n",
       "      <td>16</td>\n",
       "      <td>26.13</td>\n",
       "      <td>705</td>\n",
       "      <td>709</td>\n",
       "      <td>Fully Paid</td>\n",
       "      <td>8</td>\n",
       "      <td>1</td>\n",
       "    </tr>\n",
       "    <tr>\n",
       "      <th>387762</th>\n",
       "      <td>423747</td>\n",
       "      <td>10000</td>\n",
       "      <td>10000</td>\n",
       "      <td>10+ years</td>\n",
       "      <td>RENT</td>\n",
       "      <td>42000</td>\n",
       "      <td>vacation</td>\n",
       "      <td>Jun-2002</td>\n",
       "      <td>9</td>\n",
       "      <td>24</td>\n",
       "      <td>11.57</td>\n",
       "      <td>685</td>\n",
       "      <td>689</td>\n",
       "      <td>Fully Paid</td>\n",
       "      <td>11</td>\n",
       "      <td>1</td>\n",
       "    </tr>\n",
       "    <tr>\n",
       "      <th>387763</th>\n",
       "      <td>423748</td>\n",
       "      <td>15000</td>\n",
       "      <td>15000</td>\n",
       "      <td>4 years</td>\n",
       "      <td>RENT</td>\n",
       "      <td>66000</td>\n",
       "      <td>credit_card</td>\n",
       "      <td>Aug-1999</td>\n",
       "      <td>8</td>\n",
       "      <td>20</td>\n",
       "      <td>16.22</td>\n",
       "      <td>685</td>\n",
       "      <td>689</td>\n",
       "      <td>Current</td>\n",
       "      <td>5</td>\n",
       "      <td>1</td>\n",
       "    </tr>\n",
       "    <tr>\n",
       "      <th>387764</th>\n",
       "      <td>423749</td>\n",
       "      <td>18400</td>\n",
       "      <td>18400</td>\n",
       "      <td>4 years</td>\n",
       "      <td>MORTGAGE</td>\n",
       "      <td>110000</td>\n",
       "      <td>debt_consolidation</td>\n",
       "      <td>Apr-2003</td>\n",
       "      <td>18</td>\n",
       "      <td>36</td>\n",
       "      <td>19.85</td>\n",
       "      <td>700</td>\n",
       "      <td>704</td>\n",
       "      <td>Current</td>\n",
       "      <td>5</td>\n",
       "      <td>1</td>\n",
       "    </tr>\n",
       "    <tr>\n",
       "      <th>387765</th>\n",
       "      <td>423751</td>\n",
       "      <td>2000</td>\n",
       "      <td>2000</td>\n",
       "      <td>3 years</td>\n",
       "      <td>OWN</td>\n",
       "      <td>83000</td>\n",
       "      <td>credit_card</td>\n",
       "      <td>Feb-2003</td>\n",
       "      <td>21</td>\n",
       "      <td>27</td>\n",
       "      <td>5.39</td>\n",
       "      <td>715</td>\n",
       "      <td>719</td>\n",
       "      <td>Fully Paid</td>\n",
       "      <td>4</td>\n",
       "      <td>1</td>\n",
       "    </tr>\n",
       "    <tr>\n",
       "      <th>387766</th>\n",
       "      <td>423752</td>\n",
       "      <td>20700</td>\n",
       "      <td>20700</td>\n",
       "      <td>7 years</td>\n",
       "      <td>MORTGAGE</td>\n",
       "      <td>46000</td>\n",
       "      <td>debt_consolidation</td>\n",
       "      <td>Dec-2001</td>\n",
       "      <td>18</td>\n",
       "      <td>43</td>\n",
       "      <td>25.65</td>\n",
       "      <td>715</td>\n",
       "      <td>719</td>\n",
       "      <td>Current</td>\n",
       "      <td>8</td>\n",
       "      <td>1</td>\n",
       "    </tr>\n",
       "    <tr>\n",
       "      <th>387767</th>\n",
       "      <td>423753</td>\n",
       "      <td>10000</td>\n",
       "      <td>10000</td>\n",
       "      <td>10+ years</td>\n",
       "      <td>MORTGAGE</td>\n",
       "      <td>46000</td>\n",
       "      <td>other</td>\n",
       "      <td>Feb-2000</td>\n",
       "      <td>6</td>\n",
       "      <td>22</td>\n",
       "      <td>22.78</td>\n",
       "      <td>680</td>\n",
       "      <td>684</td>\n",
       "      <td>Current</td>\n",
       "      <td>11</td>\n",
       "      <td>1</td>\n",
       "    </tr>\n",
       "    <tr>\n",
       "      <th>387768</th>\n",
       "      <td>423754</td>\n",
       "      <td>NaN</td>\n",
       "      <td>NaN</td>\n",
       "      <td>NaN</td>\n",
       "      <td>NaN</td>\n",
       "      <td>NaN</td>\n",
       "      <td>NaN</td>\n",
       "      <td>NaN</td>\n",
       "      <td>NaN</td>\n",
       "      <td>NaN</td>\n",
       "      <td>NaN</td>\n",
       "      <td>NaN</td>\n",
       "      <td>NaN</td>\n",
       "      <td>NaN</td>\n",
       "      <td>NaN</td>\n",
       "      <td>1</td>\n",
       "    </tr>\n",
       "    <tr>\n",
       "      <th>387769</th>\n",
       "      <td>423755</td>\n",
       "      <td>NaN</td>\n",
       "      <td>NaN</td>\n",
       "      <td>NaN</td>\n",
       "      <td>NaN</td>\n",
       "      <td>NaN</td>\n",
       "      <td>NaN</td>\n",
       "      <td>NaN</td>\n",
       "      <td>NaN</td>\n",
       "      <td>NaN</td>\n",
       "      <td>NaN</td>\n",
       "      <td>NaN</td>\n",
       "      <td>NaN</td>\n",
       "      <td>NaN</td>\n",
       "      <td>NaN</td>\n",
       "      <td>1</td>\n",
       "    </tr>\n",
       "  </tbody>\n",
       "</table>\n",
       "<p>387770 rows × 16 columns</p>\n",
       "</div>"
      ],
      "text/plain": [
       "         index  loan_amnt  funded_amnt emp_length home_ownership  annual_inc  \\\n",
       "0            0      10000        10000    7 years       MORTGAGE      102000   \n",
       "1            1      12000        12000    3 years       MORTGAGE       96500   \n",
       "2            2      24000        24000  10+ years       MORTGAGE      100000   \n",
       "3            3       3000         3000  10+ years           RENT       25000   \n",
       "4            4      11500        11500    4 years           RENT       32760   \n",
       "5            5      11100        11100  10+ years       MORTGAGE       90000   \n",
       "6            6       9750         9750     1 year           RENT       26000   \n",
       "7            7       7550         7550    3 years           RENT       28000   \n",
       "8            8       4800         4800    2 years       MORTGAGE       39600   \n",
       "9            9      15000        15000    2 years       MORTGAGE       63000   \n",
       "10          10      27050        27050  10+ years            OWN       55000   \n",
       "11          11      12000        12000    4 years           RENT       60000   \n",
       "12          12       8000         8000    2 years       MORTGAGE       33000   \n",
       "13          13      12000        12000  10+ years       MORTGAGE      105000   \n",
       "14          14      15000        15000  10+ years           RENT       98000   \n",
       "15          15      20800        20800  10+ years           RENT       81500   \n",
       "16          16      28000        28000    5 years       MORTGAGE      325000   \n",
       "17          17      27600        27600    6 years       MORTGAGE       73000   \n",
       "18          18      14000        14000    4 years           RENT       88000   \n",
       "19          19      12000        12000  10+ years           RENT       40000   \n",
       "20          20      12000        12000  10+ years       MORTGAGE      130000   \n",
       "21          21      31825        31825  10+ years       MORTGAGE       70000   \n",
       "22          22       4000         4000  10+ years       MORTGAGE       84000   \n",
       "23          23      30000        30000  10+ years       MORTGAGE      120000   \n",
       "24          24       6000         6000  10+ years       MORTGAGE       67000   \n",
       "25          25      10000        10000  10+ years       MORTGAGE       41000   \n",
       "26          26       6000         6000     1 year       MORTGAGE       70000   \n",
       "27          27      22875        22875    5 years       MORTGAGE       50000   \n",
       "28          28       6000         6000    8 years           RENT      115000   \n",
       "29          29      30000        30000  10+ years            OWN       72524   \n",
       "...        ...        ...          ...        ...            ...         ...   \n",
       "387740  423720       9000         9000  10+ years            OWN      140000   \n",
       "387741  423722       2000         2000        n/a           RENT        7500   \n",
       "387742  423724      35000        35000    9 years       MORTGAGE      284481   \n",
       "387743  423726      12800        12800  10+ years       MORTGAGE      113926   \n",
       "387744  423727       7000         7000  10+ years           RENT      100000   \n",
       "387745  423728      18000        18000    4 years           RENT       48000   \n",
       "387746  423729      24000        24000  10+ years       MORTGAGE      210000   \n",
       "387747  423730      14400        14400     1 year           RENT      120000   \n",
       "387748  423731      14000        14000        n/a       MORTGAGE       68000   \n",
       "387749  423732      24000        24000  10+ years           RENT       72787   \n",
       "387750  423733      15250        15250  10+ years       MORTGAGE       65000   \n",
       "387751  423734      32000        32000        n/a       MORTGAGE      128000   \n",
       "387752  423735      12000        12000    3 years       MORTGAGE       65000   \n",
       "387753  423736      10000        10000    2 years           RENT       60000   \n",
       "387754  423737      12000        12000    3 years       MORTGAGE      133000   \n",
       "387755  423738       5000         5000    6 years           RENT       70000   \n",
       "387756  423739      10000        10000    9 years       MORTGAGE       99975   \n",
       "387757  423740      13250        13250  10+ years           RENT       57231   \n",
       "387758  423741       6000         6000        n/a       MORTGAGE       25000   \n",
       "387759  423742      12000        12000  10+ years       MORTGAGE       90000   \n",
       "387760  423743      10000        10000    8 years           RENT       45000   \n",
       "387761  423744       6000         6000    7 years           RENT       27000   \n",
       "387762  423747      10000        10000  10+ years           RENT       42000   \n",
       "387763  423748      15000        15000    4 years           RENT       66000   \n",
       "387764  423749      18400        18400    4 years       MORTGAGE      110000   \n",
       "387765  423751       2000         2000    3 years            OWN       83000   \n",
       "387766  423752      20700        20700    7 years       MORTGAGE       46000   \n",
       "387767  423753      10000        10000  10+ years       MORTGAGE       46000   \n",
       "387768  423754        NaN          NaN        NaN            NaN         NaN   \n",
       "387769  423755        NaN          NaN        NaN            NaN         NaN   \n",
       "\n",
       "                   purpose earliest_cr_line  open_acc  total_acc    dti  \\\n",
       "0       debt_consolidation         Oct-1989         9         22  15.55   \n",
       "1       debt_consolidation         Sep-2003        17         30  12.61   \n",
       "2              credit_card         Jan-1989        14         39  22.18   \n",
       "3       debt_consolidation         May-1991         5         26  24.68   \n",
       "4       debt_consolidation         Mar-1999        12         17  27.06   \n",
       "5                    other         Jun-2001         9         12   3.73   \n",
       "6       debt_consolidation         Jan-2007        12         28  25.12   \n",
       "7       debt_consolidation         Oct-2010         4          5   8.40   \n",
       "8         home_improvement         Aug-1995         3          8   2.49   \n",
       "9       debt_consolidation         Mar-1998         8         29  16.51   \n",
       "10      debt_consolidation         Oct-1986        14         27  22.87   \n",
       "11      debt_consolidation         Dec-2009        15         18   4.62   \n",
       "12      debt_consolidation         Jul-1991         9         16  15.75   \n",
       "13      debt_consolidation         Mar-1994        12         22  14.05   \n",
       "14      debt_consolidation         Jul-1992        16         16   6.15   \n",
       "15      debt_consolidation         Jun-1998        29         41  16.73   \n",
       "16      debt_consolidation         Nov-1994        15         31  18.55   \n",
       "17      debt_consolidation         Jun-1989        10         24  23.13   \n",
       "18      debt_consolidation         Jun-1988         6         14  10.02   \n",
       "19      debt_consolidation         Oct-1998         7         32  16.94   \n",
       "20      debt_consolidation         Nov-1997         9         19  13.03   \n",
       "21      debt_consolidation         Aug-1984        14         39  26.49   \n",
       "22                   other         Feb-1994        11         26  19.80   \n",
       "23      debt_consolidation         Aug-1989        16         43  12.54   \n",
       "24             credit_card         Dec-1998         7         32  17.61   \n",
       "25      debt_consolidation         Jul-2001        10         16  25.79   \n",
       "26             credit_card         Dec-1985        20         37  25.14   \n",
       "27        home_improvement         Nov-1998        10         41  10.83   \n",
       "28      debt_consolidation         Sep-2000        12         26   7.37   \n",
       "29             credit_card         Jan-1985         8         17  16.96   \n",
       "...                    ...              ...       ...        ...    ...   \n",
       "387740    home_improvement         Sep-1976        13         41   6.13   \n",
       "387741         credit_card         Sep-2006         6          7  29.92   \n",
       "387742      small_business         Sep-2000        19         35  14.59   \n",
       "387743               other         Jul-1985        12         37  21.55   \n",
       "387744               other         Jun-1993         4         24   5.48   \n",
       "387745  debt_consolidation         Apr-1985         9         18  31.05   \n",
       "387746  debt_consolidation         Sep-1997        23         39  12.98   \n",
       "387747  debt_consolidation         Aug-1997        13         23  15.93   \n",
       "387748  debt_consolidation         Feb-1993        19         47  25.36   \n",
       "387749         credit_card         Aug-2003        13         27  19.33   \n",
       "387750  debt_consolidation         Jul-1998         8         26  11.26   \n",
       "387751      major_purchase         Jul-1993        11         35   5.65   \n",
       "387752  debt_consolidation         Mar-1994        11         25   7.39   \n",
       "387753  debt_consolidation         Oct-2002        14         27  26.72   \n",
       "387754         credit_card         Dec-1993         9         23  10.12   \n",
       "387755               other         Dec-2001        10         22  20.74   \n",
       "387756  debt_consolidation         Oct-1986         9         35  11.55   \n",
       "387757               other         Apr-2000        11         22  12.04   \n",
       "387758         credit_card         May-1990        16         48  12.05   \n",
       "387759         credit_card         Jun-2001        13         42  15.04   \n",
       "387760         credit_card         Aug-1983        10         16   9.28   \n",
       "387761         credit_card         Nov-1993         8         16  26.13   \n",
       "387762            vacation         Jun-2002         9         24  11.57   \n",
       "387763         credit_card         Aug-1999         8         20  16.22   \n",
       "387764  debt_consolidation         Apr-2003        18         36  19.85   \n",
       "387765         credit_card         Feb-2003        21         27   5.39   \n",
       "387766  debt_consolidation         Dec-2001        18         43  25.65   \n",
       "387767               other         Feb-2000         6         22  22.78   \n",
       "387768                 NaN              NaN       NaN        NaN    NaN   \n",
       "387769                 NaN              NaN       NaN        NaN    NaN   \n",
       "\n",
       "        fico_range_low  fico_range_high         loan_status  emp_code  \\\n",
       "0                  670              674             Current         8   \n",
       "1                  705              709             Current         4   \n",
       "2                  660              664             Current        11   \n",
       "3                  660              664          Fully Paid        11   \n",
       "4                  675              679             Current         5   \n",
       "5                  690              694             Current        11   \n",
       "6                  670              674             Current         2   \n",
       "7                  660              664             Current         4   \n",
       "8                  755              759          Fully Paid         3   \n",
       "9                  670              674             Current         3   \n",
       "10                 730              734             Current        11   \n",
       "11                 720              724             Current         5   \n",
       "12                 685              689  Late (31-120 days)         3   \n",
       "13                 760              764             Current        11   \n",
       "14                 715              719          Fully Paid        11   \n",
       "15                 685              689          Fully Paid        11   \n",
       "16                 745              749          Fully Paid         6   \n",
       "17                 665              669             Current         7   \n",
       "18                 670              674             Current         5   \n",
       "19                 660              664          Fully Paid        11   \n",
       "20                 715              719             Current        11   \n",
       "21                 705              709             Current        11   \n",
       "22                 705              709          Fully Paid        11   \n",
       "23                 680              684             Current        11   \n",
       "24                 690              694          Fully Paid        11   \n",
       "25                 695              699             Current        11   \n",
       "26                 700              704          Fully Paid         2   \n",
       "27                 705              709          Fully Paid         6   \n",
       "28                 760              764          Fully Paid         9   \n",
       "29                 705              709             Current        11   \n",
       "...                ...              ...                 ...       ...   \n",
       "387740             660              664  Late (31-120 days)        11   \n",
       "387741             685              689             Current       NaN   \n",
       "387742             690              694          Fully Paid        10   \n",
       "387743             685              689          Fully Paid        11   \n",
       "387744             675              679             Current        11   \n",
       "387745             700              704          Fully Paid         5   \n",
       "387746             660              664             Current        11   \n",
       "387747             685              689          Fully Paid         2   \n",
       "387748             675              679          Fully Paid       NaN   \n",
       "387749             685              689             Current        11   \n",
       "387750             660              664          Fully Paid        11   \n",
       "387751             780              784          Fully Paid       NaN   \n",
       "387752             695              699             Current         4   \n",
       "387753             670              674             Current         3   \n",
       "387754             665              669             Current         4   \n",
       "387755             670              674             Current         7   \n",
       "387756             705              709             Current        10   \n",
       "387757             665              669             Current        11   \n",
       "387758             660              664          Fully Paid       NaN   \n",
       "387759             685              689             Current        11   \n",
       "387760             665              669             Current         9   \n",
       "387761             705              709          Fully Paid         8   \n",
       "387762             685              689          Fully Paid        11   \n",
       "387763             685              689             Current         5   \n",
       "387764             700              704             Current         5   \n",
       "387765             715              719          Fully Paid         4   \n",
       "387766             715              719             Current         8   \n",
       "387767             680              684             Current        11   \n",
       "387768             NaN              NaN                 NaN       NaN   \n",
       "387769             NaN              NaN                 NaN       NaN   \n",
       "\n",
       "        loan_status_code  \n",
       "0                      1  \n",
       "1                      1  \n",
       "2                      1  \n",
       "3                      1  \n",
       "4                      1  \n",
       "5                      1  \n",
       "6                      1  \n",
       "7                      1  \n",
       "8                      1  \n",
       "9                      1  \n",
       "10                     1  \n",
       "11                     1  \n",
       "12                     1  \n",
       "13                     1  \n",
       "14                     1  \n",
       "15                     1  \n",
       "16                     1  \n",
       "17                     1  \n",
       "18                     1  \n",
       "19                     1  \n",
       "20                     1  \n",
       "21                     1  \n",
       "22                     1  \n",
       "23                     1  \n",
       "24                     1  \n",
       "25                     1  \n",
       "26                     1  \n",
       "27                     1  \n",
       "28                     1  \n",
       "29                     1  \n",
       "...                  ...  \n",
       "387740                 1  \n",
       "387741                 1  \n",
       "387742                 1  \n",
       "387743                 1  \n",
       "387744                 1  \n",
       "387745                 1  \n",
       "387746                 1  \n",
       "387747                 1  \n",
       "387748                 1  \n",
       "387749                 1  \n",
       "387750                 1  \n",
       "387751                 1  \n",
       "387752                 1  \n",
       "387753                 1  \n",
       "387754                 1  \n",
       "387755                 1  \n",
       "387756                 1  \n",
       "387757                 1  \n",
       "387758                 1  \n",
       "387759                 1  \n",
       "387760                 1  \n",
       "387761                 1  \n",
       "387762                 1  \n",
       "387763                 1  \n",
       "387764                 1  \n",
       "387765                 1  \n",
       "387766                 1  \n",
       "387767                 1  \n",
       "387768                 1  \n",
       "387769                 1  \n",
       "\n",
       "[387770 rows x 16 columns]"
      ]
     },
     "execution_count": 34,
     "metadata": {},
     "output_type": "execute_result"
    }
   ],
   "source": [
    "loan_goodstanding.reset_index()"
   ]
  },
  {
   "cell_type": "code",
   "execution_count": 35,
   "metadata": {
    "collapsed": false
   },
   "outputs": [
    {
     "name": "stderr",
     "output_type": "stream",
     "text": [
      "/anaconda/lib/python2.7/site-packages/ipykernel/__main__.py:1: SettingWithCopyWarning: \n",
      "A value is trying to be set on a copy of a slice from a DataFrame\n",
      "\n",
      "See the caveats in the documentation: http://pandas.pydata.org/pandas-docs/stable/indexing.html#indexing-view-versus-copy\n",
      "  if __name__ == '__main__':\n"
     ]
    }
   ],
   "source": [
    "loan_goodstanding.dropna(inplace=True)"
   ]
  },
  {
   "cell_type": "code",
   "execution_count": 36,
   "metadata": {
    "collapsed": false
   },
   "outputs": [
    {
     "data": {
      "text/plain": [
       "(369892, 15)"
      ]
     },
     "execution_count": 36,
     "metadata": {},
     "output_type": "execute_result"
    }
   ],
   "source": [
    "loan_goodstanding.shape"
   ]
  },
  {
   "cell_type": "code",
   "execution_count": 37,
   "metadata": {
    "collapsed": false
   },
   "outputs": [],
   "source": [
    "loan_badstanding=loansubset[loansubset['loan_status_code']==0]"
   ]
  },
  {
   "cell_type": "code",
   "execution_count": 38,
   "metadata": {
    "collapsed": false
   },
   "outputs": [
    {
     "name": "stderr",
     "output_type": "stream",
     "text": [
      "/anaconda/lib/python2.7/site-packages/ipykernel/__main__.py:1: SettingWithCopyWarning: \n",
      "A value is trying to be set on a copy of a slice from a DataFrame\n",
      "\n",
      "See the caveats in the documentation: http://pandas.pydata.org/pandas-docs/stable/indexing.html#indexing-view-versus-copy\n",
      "  if __name__ == '__main__':\n"
     ]
    }
   ],
   "source": [
    "loan_badstanding.dropna(inplace=True)"
   ]
  },
  {
   "cell_type": "code",
   "execution_count": 39,
   "metadata": {
    "collapsed": false
   },
   "outputs": [
    {
     "data": {
      "text/plain": [
       "(33964, 15)"
      ]
     },
     "execution_count": 39,
     "metadata": {},
     "output_type": "execute_result"
    }
   ],
   "source": [
    "loan_badstanding.shape"
   ]
  },
  {
   "cell_type": "code",
   "execution_count": 40,
   "metadata": {
    "collapsed": false
   },
   "outputs": [
    {
     "data": {
      "text/plain": [
       "(33964, 15)"
      ]
     },
     "execution_count": 40,
     "metadata": {},
     "output_type": "execute_result"
    }
   ],
   "source": [
    "loan_badstanding.shape"
   ]
  },
  {
   "cell_type": "code",
   "execution_count": 41,
   "metadata": {
    "collapsed": false
   },
   "outputs": [
    {
     "data": {
      "text/plain": [
       "0.08053417557038323"
      ]
     },
     "execution_count": 41,
     "metadata": {},
     "output_type": "execute_result"
    }
   ],
   "source": [
    "#percentage of loans in bad standing\n",
    "33964./(33964+387770)"
   ]
  },
  {
   "cell_type": "code",
   "execution_count": 42,
   "metadata": {
    "collapsed": false
   },
   "outputs": [
    {
     "data": {
      "text/plain": [
       "0.9194658244296168"
      ]
     },
     "execution_count": 42,
     "metadata": {},
     "output_type": "execute_result"
    }
   ],
   "source": [
    "387770./(33964+387770)"
   ]
  },
  {
   "cell_type": "code",
   "execution_count": 43,
   "metadata": {
    "collapsed": false
   },
   "outputs": [
    {
     "data": {
      "text/plain": [
       "0    10000\n",
       "1    12000\n",
       "2    24000\n",
       "3     3000\n",
       "4    11500\n",
       "Name: loan_amnt, dtype: float64"
      ]
     },
     "execution_count": 43,
     "metadata": {},
     "output_type": "execute_result"
    }
   ],
   "source": [
    "loan_goodstanding['loan_amnt'].head()"
   ]
  },
  {
   "cell_type": "code",
   "execution_count": 46,
   "metadata": {
    "collapsed": false
   },
   "outputs": [
    {
     "data": {
      "image/png": "[encoded data removed]",
      "text/plain": [
       "<matplotlib.figure.Figure at 0x1083bbb10>"
      ]
     },
     "metadata": {},
     "output_type": "display_data"
    }
   ],
   "source": [
    "import seaborn as sns, numpy as np\n",
    "\n",
    "ax = sns.distplot(loan_goodstanding['loan_amnt'], bins=20,norm_hist=True, axlabel=\"Loan Amount ($)\")\n"
   ]
  },
  {
   "cell_type": "code",
   "execution_count": 48,
   "metadata": {
    "collapsed": false
   },
   "outputs": [
    {
     "data": {
      "text/plain": [
       "(array([  1.18984115e-05,   2.50264986e-05,   4.70221065e-05,\n",
       "          3.24911498e-05,   4.53074882e-05,   7.22391182e-05,\n",
       "          4.71433421e-05,   2.91831489e-05,   5.48851033e-05,\n",
       "          2.19090109e-05,   3.39286580e-05,   4.49957394e-05,\n",
       "          1.44963179e-05,   2.00211989e-05,   2.19090109e-05,\n",
       "          1.37862235e-05,   5.50756164e-06,   1.56740355e-05,\n",
       "          4.34716343e-06,   2.64640069e-05]),\n",
       " array([  1000.,   2700.,   4400.,   6100.,   7800.,   9500.,  11200.,\n",
       "         12900.,  14600.,  16300.,  18000.,  19700.,  21400.,  23100.,\n",
       "         24800.,  26500.,  28200.,  29900.,  31600.,  33300.,  35000.]),\n",
       " <a list of 20 Patch objects>)"
      ]
     },
     "execution_count": 48,
     "metadata": {},
     "output_type": "execute_result"
    },
    {
     "data": {
      "image/png": "[encoded data removed]",
      "text/plain": [
       "<matplotlib.figure.Figure at 0x111ca4610>"
      ]
     },
     "metadata": {},
     "output_type": "display_data"
    }
   ],
   "source": [
    "plt.hist(loan_goodstanding['loan_amnt'].values,bins=20,normed=1, alpha=0.5)\n",
    "plt.hist(loan_badstanding['loan_amnt'].values,bins=20,normed=1, alpha=0.5)"
   ]
  },
  {
   "cell_type": "code",
   "execution_count": 49,
   "metadata": {
    "collapsed": false
   },
   "outputs": [
    {
     "data": {
      "text/plain": [
       "(array([ 0.00394733,  0.00767372,  0.01402185,  0.01938315,  0.02639407,\n",
       "         0.03397942,  0.0389725 ,  0.04199191,  0.04549737,  0.04624854,\n",
       "         0.04490822,  0.04177097,  0.03682209,  0.03182901,  0.02723361,\n",
       "         0.01715909,  0.01337378,  0.00636286,  0.00148761,  0.00119304]),\n",
       " array([  0.   ,   1.999,   3.998,   5.997,   7.996,   9.995,  11.994,\n",
       "         13.993,  15.992,  17.991,  19.99 ,  21.989,  23.988,  25.987,\n",
       "         27.986,  29.985,  31.984,  33.983,  35.982,  37.981,  39.98 ]),\n",
       " <a list of 20 Patch objects>)"
      ]
     },
     "execution_count": 49,
     "metadata": {},
     "output_type": "execute_result"
    },
    {
     "data": {
      "image/png": "[encoded data removed]",
      "text/plain": [
       "<matplotlib.figure.Figure at 0x1200e9e50>"
      ]
     },
     "metadata": {},
     "output_type": "display_data"
    }
   ],
   "source": [
    "plt.hist(loan_goodstanding['dti'].values,bins=20,normed=1, alpha=0.5)\n",
    "plt.hist(loan_badstanding['dti'].values,bins=20,normed=1, alpha=0.5)"
   ]
  },
  {
   "cell_type": "code",
   "execution_count": 50,
   "metadata": {
    "collapsed": false
   },
   "outputs": [
    {
     "data": {
      "text/plain": [
       "(array([  2.27090544e-02,   2.18226003e-02,   1.89891131e-02,\n",
       "          1.48607697e-02,   1.05804628e-02,   6.89851240e-03,\n",
       "          4.42910457e-03,   1.53229922e-03,   1.92487175e-03,\n",
       "          1.32018342e-03,   8.51629113e-04,   5.47701994e-04,\n",
       "          3.83074805e-04,   2.78599858e-04,   1.10806762e-04,\n",
       "          1.39299929e-04,   8.86454095e-05,   4.43227047e-05,\n",
       "          6.33181496e-06,   9.49772245e-06]),\n",
       " array([ 664. ,  673.3,  682.6,  691.9,  701.2,  710.5,  719.8,  729.1,\n",
       "         738.4,  747.7,  757. ,  766.3,  775.6,  784.9,  794.2,  803.5,\n",
       "         812.8,  822.1,  831.4,  840.7,  850. ]),\n",
       " <a list of 20 Patch objects>)"
      ]
     },
     "execution_count": 50,
     "metadata": {},
     "output_type": "execute_result"
    },
    {
     "data": {
      "image/png": "[encoded data removed]",
      "text/plain": [
       "<matplotlib.figure.Figure at 0x1200e9410>"
      ]
     },
     "metadata": {},
     "output_type": "display_data"
    }
   ],
   "source": [
    "plt.hist(loan_goodstanding['fico_range_high'].values,bins=20,normed=1, alpha=0.5)\n",
    "plt.hist(loan_badstanding['fico_range_high'].values,bins=20,normed=1, alpha=0.5)"
   ]
  }
 ],
 "metadata": {
  "kernelspec": {
   "display_name": "Python 2",
   "language": "python",
   "name": "python2"
  },
  "language_info": {
   "codemirror_mode": {
    "name": "ipython",
    "version": 2
   },
   "file_extension": ".py",
   "mimetype": "text/x-python",
   "name": "python",
   "nbconvert_exporter": "python",
   "pygments_lexer": "ipython2",
   "version": "2.7.10"
  }
 },
 "nbformat": 4,
 "nbformat_minor": 0
}
